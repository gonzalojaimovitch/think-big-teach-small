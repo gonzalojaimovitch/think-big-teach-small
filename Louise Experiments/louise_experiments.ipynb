{
 "cells": [
  {
   "cell_type": "markdown",
   "metadata": {
    "id": "d9Xz2-7KEgm0"
   },
   "source": [
    "This notebook is used to evaluate the cleaned outputs (predicates) provided by Louise once the positive and negative examples, the background knowledge and the metarules for each concept were provided to the system. "
   ]
  },
  {
   "cell_type": "markdown",
   "metadata": {},
   "source": [
    "# Settings"
   ]
  },
  {
   "cell_type": "code",
   "execution_count": 2,
   "metadata": {
    "colab": {
     "base_uri": "https://localhost:8080/"
    },
    "id": "uppsJJ1EK9Mn",
    "outputId": "615fb314-8090-4f37-9d65-b313972002b1"
   },
   "outputs": [
    {
     "name": "stdout",
     "output_type": "stream",
     "text": [
      "Password:\n",
      "sudo: a password is required\n",
      "Collecting pyswip\n",
      "  Using cached pyswip-0.2.10-py2.py3-none-any.whl (27 kB)\n",
      "Installing collected packages: pyswip\n",
      "Successfully installed pyswip-0.2.10\n"
     ]
    }
   ],
   "source": [
    "!sudo apt install swi-prolog\n",
    "!pip install pyswip"
   ]
  },
  {
   "cell_type": "code",
   "execution_count": 69,
   "metadata": {
    "id": "MC5MuJmHSFhZ"
   },
   "outputs": [],
   "source": [
    "from pyswip import Prolog\n",
    "prolog = Prolog()"
   ]
  },
  {
   "cell_type": "markdown",
   "metadata": {},
   "source": [
    "# Data"
   ]
  },
  {
   "cell_type": "code",
   "execution_count": 70,
   "metadata": {
    "id": "mDItwqudtHZm"
   },
   "outputs": [],
   "source": [
    "with open(\"clean_output_r.txt\", \"r\") as file:\n",
    "\tpredicates = file.readlines()\n",
    "with open(\"test.txt\", \"r\") as file:\n",
    "\ttest = file.readlines()\n",
    "with open(\"test_clear.txt\", \"r\") as file:\n",
    "\ttest_clear = file.readlines()"
   ]
  },
  {
   "cell_type": "code",
   "execution_count": 71,
   "metadata": {
    "id": "PWKbypsxtrKL"
   },
   "outputs": [],
   "source": [
    "for i in range(0, len(predicates)):\n",
    "  predicates[i] = predicates[i].split(\";\")\n",
    "  predicates[i][len(predicates[i])-1] = predicates[i][len(predicates[i])-1].replace(\"\\n\",\"\")\n",
    "for i in range(0, len(test)):\n",
    "  test[i] = test[i].split(\";\")\n",
    "  test[i][len(test[i])-1] = test[i][len(test[i])-1].replace(\"\\n\",\"\")\n",
    "for i in range(0, len(test_clear)):\n",
    "  test_clear[i] = test_clear[i].split(\";\")\n",
    "  test_clear[i][len(test_clear[i])-1] = test_clear[i][len(test_clear[i])-1].replace(\"\\n\",\"\")"
   ]
  },
  {
   "cell_type": "code",
   "execution_count": 72,
   "metadata": {
    "id": "QoyIHkPHOJO2"
   },
   "outputs": [],
   "source": [
    " #Function to build the pl file to consult with the BK functions + the predicates returned by louise\n",
    " def build_pl(file, predicates):\n",
    "  data = \"\" \n",
    "  # Reading data from first file \n",
    "  with open(file) as fp: \n",
    "      data = fp.read() \n",
    "  # Merging two files into another file \n",
    "  data += \"\\n\\n\"\n",
    "  for i in range(0, len(predicates)):\n",
    "    data += predicates[i]\n",
    "    data += \"\\n\"\n",
    "  with open ('aux_file.pl', 'w') as fp: \n",
    "    fp.write(data)\n",
    "    fp.close()"
   ]
  },
  {
   "cell_type": "code",
   "execution_count": 73,
   "metadata": {
    "id": "znpabf8YQIE3"
   },
   "outputs": [],
   "source": [
    "#Return solutions based on the predicates returned by louise\n",
    "numConcepts = 8\n",
    "numBatches = 3\n",
    "numTests = 5\n",
    "\n",
    "results = [[]]*numConcepts\n",
    "results_clear = [[]]*numConcepts\n",
    "\n",
    "for c in range(0, numConcepts):\n",
    "  results[c] = [[]]*numBatches\n",
    "  results_clear[c] = [[]]*numBatches\n",
    "  for b in range(0, numBatches):\n",
    "    results[c][b] = [[]]*len(test[c])\n",
    "    results_clear[c][b] = [[]]*len(test_clear[c])\n",
    "    pred_aux = predicates[(c*numBatches)+b]\n",
    "    if pred_aux == ['']:\n",
    "      for t in range(0,len(test[c])):\n",
    "        results[c][b][t] = []\n",
    "      for t in range(0,len(test_clear[c])):\n",
    "        results_clear[c][b][t] = []\n",
    "    else:\n",
    "      build_pl(\"eval.pl\",predicates[(c*numBatches)+b])\n",
    "      prolog.consult(\"aux_file.pl\")\n",
    "      for t in range(0,len(test[c])):\n",
    "        results[c][t][b] = list(prolog.query(test[c][t]))\n",
    "      for t in range(0,len(test_clear[c])):\n",
    "        results_clear[c][b][t] = list(prolog.query(test_clear[c][t]))"
   ]
  },
  {
   "cell_type": "code",
   "execution_count": 74,
   "metadata": {
    "id": "a1LtDo0CmylN"
   },
   "outputs": [],
   "source": [
    "#Postprocess results\n",
    "for c in range(0, numConcepts):\n",
    "  for b in range(0, numBatches):\n",
    "    for t in range(0,len(test[c])):\n",
    "      for l in range(0, len(results[c][b][t])):\n",
    "        if isinstance(results[c][b][t][l], dict):\n",
    "          list_aux = [str(thing) for thing in results[c][b][t][l]['B']]\n",
    "          results[c][b][t][l] = \"\".join(list_aux)\n",
    "    for t in range(0,len(test_clear[c])):\n",
    "      for l in range(0, len(results_clear[c][b][t])):\n",
    "        if isinstance(results_clear[c][b][t][l], dict):\n",
    "          list_aux = [str(thing) for thing in results_clear[c][b][t][l]['B']]\n",
    "          results_clear[c][b][t][l] = \"\".join(list_aux)  \n"
   ]
  },
  {
   "cell_type": "code",
   "execution_count": null,
   "metadata": {},
   "outputs": [],
   "source": [
    "import copy\n",
    "\n",
    "correctAnswers = [['0','1','0','1','0'],['1','1','0','0','-'],['1','-','1','-','1'], ['011', '011', '011', '1', '1'], ['0', '1', '-', '1', '-'], ['00', '-', '-', '-', '-'], ['1', '0', '0', '-', '-'], ['-', '-', '1', '1', '-']]\n",
    "\n",
    "correctAnswers_emp = copy.deepcopy(correctAnswers)\n",
    "\n",
    "remove_pos = [[],[4],[1,3],[],[2,4],[1,2,3,4],[3,4],[0,1,4]]\n",
    "\n",
    "for i in range(0, len(remove_pos)):\n",
    "    remove_pos[i].reverse()\n",
    "    for j in range(0,len(remove_pos[i])):\n",
    "        del correctAnswers_emp[i][remove_pos[i][j]]"
   ]
  },
  {
   "cell_type": "markdown",
   "metadata": {},
   "source": [
    "# Evaluation"
   ]
  },
  {
   "cell_type": "markdown",
   "metadata": {},
   "source": [
    "## Louise-exp"
   ]
  },
  {
   "cell_type": "markdown",
   "metadata": {},
   "source": [
    "### All text examples"
   ]
  },
  {
   "cell_type": "code",
   "execution_count": 86,
   "metadata": {
    "colab": {
     "base_uri": "https://localhost:8080/"
    },
    "id": "EP7D_C-gqp3R",
    "outputId": "34e7de38-4875-4e6b-9663-0a51063ae5b9"
   },
   "outputs": [
    {
     "name": "stdout",
     "output_type": "stream",
     "text": [
      "Louise Accuracy for C1 in Phase 1: 43.52941176470592\n",
      "Louise Accuracy for C1 in Phase 2: 64.00000000000003\n",
      "Louise Accuracy for C1 in Phase 3: 96.66666666666667\n",
      "Louise Accuracy for C2 in Phase 1: 61.11111111111109\n",
      "Louise Accuracy for C2 in Phase 2: 78.57142857142857\n",
      "Louise Accuracy for C2 in Phase 3: 95.00000000000003\n",
      "Louise Accuracy for C3 in Phase 1: 0\n",
      "Louise Accuracy for C3 in Phase 2: 20.0\n",
      "Louise Accuracy for C3 in Phase 3: 20.0\n",
      "Louise Accuracy for C4 in Phase 1: 0\n",
      "Louise Accuracy for C4 in Phase 2: 40.0\n",
      "Louise Accuracy for C4 in Phase 3: 40.0\n",
      "Louise Accuracy for C5 in Phase 1: 20.0\n",
      "Louise Accuracy for C5 in Phase 2: 0\n",
      "Louise Accuracy for C5 in Phase 3: 13.333333333333334\n",
      "Louise Accuracy for C6 in Phase 1: 0\n",
      "Louise Accuracy for C6 in Phase 2: 0\n",
      "Louise Accuracy for C6 in Phase 3: 0\n",
      "Louise Accuracy for C7 in Phase 1: 60.00000000000001\n",
      "Louise Accuracy for C7 in Phase 2: 60.00000000000001\n",
      "Louise Accuracy for C7 in Phase 3: 60.00000000000001\n",
      "Louise Accuracy for C8 in Phase 1: 30.000000000000004\n",
      "Louise Accuracy for C8 in Phase 2: 60.00000000000001\n",
      "Louise Accuracy for C8 in Phase 3: 60.00000000000001\n"
     ]
    }
   ],
   "source": [
    "import statistics as st\n",
    "\n",
    "accuracies_exp = [[]]*numConcepts\n",
    "binary_exp = [[]]*numConcepts\n",
    "\n",
    "#Calculate the accuracies\n",
    "for c in range(0, numConcepts):\n",
    "  accuracies_exp[c] = [0]*numBatches\n",
    "  for b in range(0, numBatches):\n",
    "    binary_exp[c][b] = [[]]*numTests\n",
    "    for t in range(0, numTests):\n",
    "      binary_exp[c][b][t] = [\"\"]*len(results[c][b][t])\n",
    "      for l in range(0, len(results[c][b][t])):\n",
    "        if results[c][b][t][l] == correctAnswers[c][t]:\n",
    "          accuracies_exp[c][b] = accuracies[c][b] + (1/numTests)/len(results[c][b][t])\n",
    "          binary_exp[c][b][t][l] = 1\n",
    "        else:\n",
    "          binary_exp[c][b][t][l] = 0\n",
    "          \n",
    "\n",
    "for c in range(0, numConcepts):\n",
    "  for b in range(0, numBatches):\n",
    "    print(\"Louise Accuracy for C\" + str(c+1) + \" in Phase \" + str(b+1) + \": \" + str(accuracies_exp[c][b]*100))\n",
    "    \n",
    "\n",
    "for c in range(0, numConcepts):\n",
    "  for b in range(0, numBatches):\n",
    "    for t in range(0, numTests):\n",
    "      if binary_exp[c][b][t] == []:\n",
    "        binary_exp[c][b][t] = 0\n",
    "      elif not isinstance(binary_exp[c][b][t],int):\n",
    "        binary_exp[c][b][t] = st.mean(binary_exp[c][b][t])"
   ]
  },
  {
   "cell_type": "markdown",
   "metadata": {},
   "source": [
    "### No empty strings"
   ]
  },
  {
   "cell_type": "code",
   "execution_count": 75,
   "metadata": {
    "colab": {
     "base_uri": "https://localhost:8080/"
    },
    "id": "pV-RnxnGvr5_",
    "outputId": "f94c6df5-01b7-405a-bc94-c958e05cab08"
   },
   "outputs": [
    {
     "name": "stdout",
     "output_type": "stream",
     "text": [
      "Louise Accuracy for C1 in Phase 1: 43.52941176470592\n",
      "Louise Accuracy for C1 in Phase 2: 64.00000000000003\n",
      "Louise Accuracy for C1 in Phase 3: 96.66666666666667\n",
      "Louise Accuracy for C2 in Phase 1: 72.22222222222216\n",
      "Louise Accuracy for C2 in Phase 2: 87.49999999999997\n",
      "Louise Accuracy for C2 in Phase 3: 100.0\n",
      "Louise Accuracy for C3 in Phase 1: 0\n",
      "Louise Accuracy for C3 in Phase 2: 33.33333333333333\n",
      "Louise Accuracy for C3 in Phase 3: 33.33333333333333\n",
      "Louise Accuracy for C4 in Phase 1: 0\n",
      "Louise Accuracy for C4 in Phase 2: 40.0\n",
      "Louise Accuracy for C4 in Phase 3: 40.0\n",
      "Louise Accuracy for C5 in Phase 1: 0\n",
      "Louise Accuracy for C5 in Phase 2: 0\n",
      "Louise Accuracy for C5 in Phase 3: 22.22222222222222\n",
      "Louise Accuracy for C6 in Phase 1: 0\n",
      "Louise Accuracy for C6 in Phase 2: 0\n",
      "Louise Accuracy for C6 in Phase 3: 0\n",
      "Louise Accuracy for C7 in Phase 1: 100.0\n",
      "Louise Accuracy for C7 in Phase 2: 100.0\n",
      "Louise Accuracy for C7 in Phase 3: 100.0\n",
      "Louise Accuracy for C8 in Phase 1: 0\n",
      "Louise Accuracy for C8 in Phase 2: 0\n",
      "Louise Accuracy for C8 in Phase 3: 0\n"
     ]
    }
   ],
   "source": [
    "import statistics as st\n",
    "\n",
    "accuracies_exp_emp = [[]]*numConcepts\n",
    "binary_exp_emp = [[]]*numConcepts\n",
    "\n",
    "#Calculate the accuracies\n",
    "for c in range(0, numConcepts):\n",
    "  accuracies_exp_emp[c] = [0]*numBatches\n",
    "  binary_exp_emp[c] = [[]]*numBatches\n",
    "  for b in range(0, numBatches):\n",
    "    binary_exp_emp[c][b] = [[]]*len(test_clear[c])\n",
    "    for t in range(0, len(test_clear[c])):\n",
    "      binary_exp_emp[c][b][t] = [\"\"]*len(results_clear[c][b][t])\n",
    "      for l in range(0, len(results_clear[c][b][t])):\n",
    "        if results_clear[c][b][t][l] == correctAnswers_emp[c][t]:\n",
    "          accuracies_exp_emp[c][b] = accuracies_exp_emp[c][b] + (1/len(correctAnswers_emp[c]))/len(results_clear[c][b][t])\n",
    "          binary_exp_emp[c][b][t][l] = 1\n",
    "        else:\n",
    "          binary_exp_emp[c][b][t][l] = 0\n",
    "\n",
    "\n",
    "\n",
    "for c in range(0, numConcepts):\n",
    "  for b in range(0, numBatches):\n",
    "    print(\"Louise Accuracy for C\" + str(c+1) + \" in Phase \" + str(b+1) + \": \" + str(accuracies_exp_emp[c][b]*100))\n",
    "    \n",
    "\n",
    "for c in range(0, numConcepts):\n",
    "  for b in range(0, numBatches):\n",
    "    for t in range(0, numTests):\n",
    "      if binary_exp_emp[c][b][t] == []:\n",
    "        binary_exp_emp[c][b][t] = 0\n",
    "      elif not isinstance(binary_exp_emp[c][b][t],int):\n",
    "        binary_exp_emp[c][b][t] = st.mean(binary_exp_emp[c][b][t])\n",
    "\n"
   ]
  },
  {
   "cell_type": "code",
   "execution_count": 79,
   "metadata": {
    "id": "0KM-KutgJ-PK"
   },
   "outputs": [],
   "source": [
    "#Return the most repeated element in a list or a list with the most repeated elements\n",
    "def most_frequent(passed_list, seed): \n",
    "  counter = 0 \n",
    "  num = \"\"   \n",
    "  for i in passed_list: \n",
    "    curr_frequency = passed_list.count(i) \n",
    "    if curr_frequency > counter: \n",
    "      counter = curr_frequency\n",
    "      num = i \n",
    "    elif curr_frequency == counter:\n",
    "      if isinstance(num, list):\n",
    "        if not i in num:\n",
    "          num.append(i)\n",
    "      elif i != num:\n",
    "        num = [num,i]\n",
    "\n",
    "  if isinstance(num, list):\n",
    "    rn.seed(seed)\n",
    "    num = rn.choice(num)\n",
    "  \n",
    "  return num"
   ]
  },
  {
   "cell_type": "markdown",
   "metadata": {},
   "source": [
    "## Louise-ens"
   ]
  },
  {
   "cell_type": "markdown",
   "metadata": {},
   "source": [
    "### All test examples"
   ]
  },
  {
   "cell_type": "code",
   "execution_count": 84,
   "metadata": {
    "colab": {
     "base_uri": "https://localhost:8080/"
    },
    "id": "Nb6fWTNMWO7C",
    "outputId": "097f1b7d-3dfc-4859-e21e-fc0282bd162a"
   },
   "outputs": [
    {
     "name": "stdout",
     "output_type": "stream",
     "text": [
      "Louise Accuracy for C1 in Phase 1: 60.00000000000001\n",
      "Louise Accuracy for C1 in Phase 2: 80.0\n",
      "Louise Accuracy for C1 in Phase 3: 100.0\n",
      "Louise Accuracy for C2 in Phase 1: 40.0\n",
      "Louise Accuracy for C2 in Phase 2: 60.00000000000001\n",
      "Louise Accuracy for C2 in Phase 3: 100.0\n",
      "Louise Accuracy for C3 in Phase 1: 0\n",
      "Louise Accuracy for C3 in Phase 2: 20.0\n",
      "Louise Accuracy for C3 in Phase 3: 20.0\n",
      "Louise Accuracy for C4 in Phase 1: 0\n",
      "Louise Accuracy for C4 in Phase 2: 40.0\n",
      "Louise Accuracy for C4 in Phase 3: 40.0\n",
      "Louise Accuracy for C5 in Phase 1: 20.0\n",
      "Louise Accuracy for C5 in Phase 2: 0\n",
      "Louise Accuracy for C5 in Phase 3: 20.0\n",
      "Louise Accuracy for C6 in Phase 1: 0\n",
      "Louise Accuracy for C6 in Phase 2: 0\n",
      "Louise Accuracy for C6 in Phase 3: 0\n",
      "Louise Accuracy for C7 in Phase 1: 60.00000000000001\n",
      "Louise Accuracy for C7 in Phase 2: 60.00000000000001\n",
      "Louise Accuracy for C7 in Phase 3: 60.00000000000001\n",
      "Louise Accuracy for C8 in Phase 1: 60.00000000000001\n",
      "Louise Accuracy for C8 in Phase 2: 60.00000000000001\n",
      "Louise Accuracy for C8 in Phase 3: 60.00000000000001\n"
     ]
    }
   ],
   "source": [
    "import statistics as st\n",
    "import random as rn\n",
    "import copy\n",
    "\n",
    "accuracies_ens = [[]]*numConcepts\n",
    "binary_ens = [[]]*numConcepts\n",
    "\n",
    "resultsAux = copy.deepcopy(results)\n",
    "\n",
    "for c in range(0, numConcepts):\n",
    "  for b in range(0, numBatches):\n",
    "    for t in range(0, numTests):\n",
    "      if resultsAux[c][b][t] != []:\n",
    "        resultsAux[c][b][t] = most_frequent(resultsAux[c][b][t],seed)\n",
    "\n",
    "\n",
    "#Calculate the accuracies\n",
    "for c in range(0, numConcepts):\n",
    "  accuracies_ens[c] = [0]*numBatches\n",
    "  binary_ens[c] = [[]]*numBatches\n",
    "  for b in range(0, numBatches):\n",
    "    binary_ens[c][b] = [\"\"]*numTests\n",
    "    for t in range(0, numTests):\n",
    "      if resultsAux[c][b][t] == correctAnswers[c][t]:\n",
    "        accuracies_ens[c][b] = accuracies_ens[c][b] + (1/numTests)\n",
    "        binary_ens[c][b][t] = 1\n",
    "      else:\n",
    "        binary_ens[c][b][t] = 0\n",
    "\n",
    "for c in range(0, numConcepts):\n",
    "  for b in range(0, numBatches):\n",
    "    print(\"Louise Accuracy for C\" + str(c+1) + \" in Batch \" + str(b+1) + \": \" + str(accuracies_ens[c][b]*100))"
   ]
  },
  {
   "cell_type": "markdown",
   "metadata": {},
   "source": [
    "### No empty strings"
   ]
  },
  {
   "cell_type": "code",
   "execution_count": 81,
   "metadata": {
    "colab": {
     "base_uri": "https://localhost:8080/"
    },
    "id": "PwrjaF34KAiM",
    "outputId": "ecf72997-021c-436d-dd14-27140d689bf5"
   },
   "outputs": [
    {
     "name": "stdout",
     "output_type": "stream",
     "text": [
      "Louise Accuracy for C1 in Phase 1: 60.00000000000001\n",
      "Louise Accuracy for C1 in Phase 2: 80.0\n",
      "Louise Accuracy for C1 in Phase 3: 100.0\n",
      "Louise Accuracy for C2 in Phase 1: 50.0\n",
      "Louise Accuracy for C2 in Phase 2: 75.0\n",
      "Louise Accuracy for C2 in Phase 3: 100.0\n",
      "Louise Accuracy for C3 in Phase 1: 0\n",
      "Louise Accuracy for C3 in Phase 2: 33.33333333333333\n",
      "Louise Accuracy for C3 in Phase 3: 33.33333333333333\n",
      "Louise Accuracy for C4 in Phase 1: 0\n",
      "Louise Accuracy for C4 in Phase 2: 40.0\n",
      "Louise Accuracy for C4 in Phase 3: 40.0\n",
      "Louise Accuracy for C5 in Phase 1: 0\n",
      "Louise Accuracy for C5 in Phase 2: 0\n",
      "Louise Accuracy for C5 in Phase 3: 33.33333333333333\n",
      "Louise Accuracy for C6 in Phase 1: 0\n",
      "Louise Accuracy for C6 in Phase 2: 0\n",
      "Louise Accuracy for C6 in Phase 3: 0\n",
      "Louise Accuracy for C7 in Phase 1: 100.0\n",
      "Louise Accuracy for C7 in Phase 2: 100.0\n",
      "Louise Accuracy for C7 in Phase 3: 100.0\n",
      "Louise Accuracy for C8 in Phase 1: 0\n",
      "Louise Accuracy for C8 in Phase 2: 0\n",
      "Louise Accuracy for C8 in Phase 3: 0\n"
     ]
    }
   ],
   "source": [
    "import statistics as st\n",
    "import random as rn\n",
    "import copy\n",
    "\n",
    "accuracies_ens_emp = [[]]*numConcepts\n",
    "binary_ens_emp = [[]]*numConcepts\n",
    "\n",
    "resultsAux = copy.deepcopy(results_clear)\n",
    "\n",
    "\n",
    "for c in range(0, numConcepts):\n",
    "  for b in range(0, numBatches):\n",
    "    for t in range(0, numTests):\n",
    "      if resultsAux[c][b][t] != []:\n",
    "        resultsAux[c][b][t] = most_frequent(resultsAux[c][b][t],seed)\n",
    "\n",
    "\n",
    "#Calculate the accuracies\n",
    "for c in range(0, numConcepts):\n",
    "  accuracies_ens_emp[c] = [0]*numBatches\n",
    "  binary_ens_emp[c] = [[]]*numBatches\n",
    "  for b in range(0, numBatches):\n",
    "    binary_ens_emp[c][b] = [\"\"]*len(test_clear[c])\n",
    "    for t in range(0, len(test_clear[c])):\n",
    "      if resultsAux[c][b][t] == correctAnswers_emp[c][t]:\n",
    "        accuracies_ens_emp[c][b] = accuracies_ens_emp[c][b] + (1/len(test_clear[c]))\n",
    "        binary_ens_emp[c][b][t] = 1\n",
    "      else:\n",
    "        binary_ens_emp[c][b][t] = 0\n",
    "\n",
    "for c in range(0, numConcepts):\n",
    "  for b in range(0, numBatches):\n",
    "    print(\"Louise Accuracy for C\" + str(c+1) + \" in Batch \" + str(b+1) + \": \" + str(accuracies_ens_emp[c][b]*100))"
   ]
  }
 ],
 "metadata": {
  "colab": {
   "name": "louise_experiments.ipynb",
   "provenance": []
  },
  "kernelspec": {
   "display_name": "Python 3",
   "language": "python",
   "name": "python3"
  },
  "language_info": {
   "codemirror_mode": {
    "name": "ipython",
    "version": 3
   },
   "file_extension": ".py",
   "mimetype": "text/x-python",
   "name": "python",
   "nbconvert_exporter": "python",
   "pygments_lexer": "ipython3",
   "version": "3.8.8"
  }
 },
 "nbformat": 4,
 "nbformat_minor": 1
}
