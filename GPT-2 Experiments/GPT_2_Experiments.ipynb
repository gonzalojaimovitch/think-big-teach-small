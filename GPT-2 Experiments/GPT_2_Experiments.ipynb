{
 "cells": [
  {
   "cell_type": "markdown",
   "metadata": {
    "id": "xKIzCNlllYul"
   },
   "source": [
    "# List of contents:\n",
    "\n",
    "  1. Download files\n",
    "  2. Configuration\n",
    "  3. Queries building\n",
    "  4. Run experiment\n",
    "  5. Evaluation\n",
    "\n",
    "The experiment takes some hours to finish in Google Colab, selecting the GPU as accelerator. In case the user would like to obtain the evaluation of the results without executing the whole experiment, the blocks 2 and 4 can be skiped (the file with the results obtained by GPT-2 in our execution is downloaded in block 1). "
   ]
  },
  {
   "cell_type": "markdown",
   "metadata": {
    "id": "mGDjQ7aikntI"
   },
   "source": [
    "# 1. Download files"
   ]
  },
  {
   "cell_type": "code",
   "execution_count": null,
   "metadata": {
    "colab": {
     "base_uri": "https://localhost:8080/"
    },
    "executionInfo": {
     "elapsed": 5650,
     "status": "ok",
     "timestamp": 1623692730137,
     "user": {
      "displayName": "Anonymous Submission Upload",
      "photoUrl": "",
      "userId": "02777180849015365363"
     },
     "user_tz": -120
    },
    "id": "G93gVWsGATDi",
    "outputId": "3a64a58f-4052-4c2f-a8a2-3ad5d7a1536a"
   },
   "outputs": [
    {
     "name": "stdout",
     "output_type": "stream",
     "text": [
      "Requirement already satisfied: googledrivedownloader in /usr/local/lib/python3.7/dist-packages (0.4)\n",
      "Downloading 1SKZNH3vC3O1U7xVCOEbWskjR0ajG3-if into ./content... Done.\n",
      "Unzipping...Done.\n"
     ]
    }
   ],
   "source": [
    "#Download the necessary files for the experiment\n",
    "\n",
    "!pip install googledrivedownloader\n",
    "\n",
    "from google_drive_downloader import GoogleDriveDownloader as gdd\n",
    "\n",
    "gdd.download_file_from_google_drive(file_id='1SKZNH3vC3O1U7xVCOEbWskjR0ajG3-if',\n",
    "                                    dest_path='./content',\n",
    "                                    unzip=True)"
   ]
  },
  {
   "cell_type": "markdown",
   "metadata": {},
   "source": [
    "# 2. Configuration"
   ]
  },
  {
   "cell_type": "code",
   "execution_count": null,
   "metadata": {
    "colab": {
     "base_uri": "https://localhost:8080/"
    },
    "executionInfo": {
     "elapsed": 82560,
     "status": "ok",
     "timestamp": 1623692812689,
     "user": {
      "displayName": "Anonymous Submission Upload",
      "photoUrl": "",
      "userId": "02777180849015365363"
     },
     "user_tz": -120
    },
    "id": "n5HkUJHaF9xy",
    "outputId": "f8a3770d-bb4b-4012-d8c9-f9e8e9ecbd44"
   },
   "outputs": [
    {
     "name": "stdout",
     "output_type": "stream",
     "text": [
      "Collecting tensorflow==1.15.0\n",
      "\u001b[?25l  Downloading https://files.pythonhosted.org/packages/92/2b/e3af15221da9ff323521565fa3324b0d7c7c5b1d7a8ca66984c8d59cb0ce/tensorflow-1.15.0-cp37-cp37m-manylinux2010_x86_64.whl (412.3MB)\n",
      "\u001b[K     |████████████████████████████████| 412.3MB 22kB/s \n",
      "\u001b[?25hRequirement already satisfied: grpcio>=1.8.6 in /usr/local/lib/python3.7/dist-packages (from tensorflow==1.15.0) (1.34.1)\n",
      "Requirement already satisfied: google-pasta>=0.1.6 in /usr/local/lib/python3.7/dist-packages (from tensorflow==1.15.0) (0.2.0)\n",
      "Requirement already satisfied: keras-preprocessing>=1.0.5 in /usr/local/lib/python3.7/dist-packages (from tensorflow==1.15.0) (1.1.2)\n",
      "Requirement already satisfied: absl-py>=0.7.0 in /usr/local/lib/python3.7/dist-packages (from tensorflow==1.15.0) (0.12.0)\n",
      "Collecting gast==0.2.2\n",
      "  Downloading https://files.pythonhosted.org/packages/4e/35/11749bf99b2d4e3cceb4d55ca22590b0d7c2c62b9de38ac4a4a7f4687421/gast-0.2.2.tar.gz\n",
      "Collecting keras-applications>=1.0.8\n",
      "\u001b[?25l  Downloading https://files.pythonhosted.org/packages/71/e3/19762fdfc62877ae9102edf6342d71b28fbfd9dea3d2f96a882ce099b03f/Keras_Applications-1.0.8-py3-none-any.whl (50kB)\n",
      "\u001b[K     |████████████████████████████████| 51kB 5.1MB/s \n",
      "\u001b[?25hRequirement already satisfied: six>=1.10.0 in /usr/local/lib/python3.7/dist-packages (from tensorflow==1.15.0) (1.15.0)\n",
      "Requirement already satisfied: opt-einsum>=2.3.2 in /usr/local/lib/python3.7/dist-packages (from tensorflow==1.15.0) (3.3.0)\n",
      "Requirement already satisfied: numpy<2.0,>=1.16.0 in /usr/local/lib/python3.7/dist-packages (from tensorflow==1.15.0) (1.19.5)\n",
      "Collecting tensorflow-estimator==1.15.1\n",
      "\u001b[?25l  Downloading https://files.pythonhosted.org/packages/de/62/2ee9cd74c9fa2fa450877847ba560b260f5d0fb70ee0595203082dafcc9d/tensorflow_estimator-1.15.1-py2.py3-none-any.whl (503kB)\n",
      "\u001b[K     |████████████████████████████████| 512kB 38.4MB/s \n",
      "\u001b[?25hRequirement already satisfied: termcolor>=1.1.0 in /usr/local/lib/python3.7/dist-packages (from tensorflow==1.15.0) (1.1.0)\n",
      "Collecting tensorboard<1.16.0,>=1.15.0\n",
      "\u001b[?25l  Downloading https://files.pythonhosted.org/packages/1e/e9/d3d747a97f7188f48aa5eda486907f3b345cd409f0a0850468ba867db246/tensorboard-1.15.0-py3-none-any.whl (3.8MB)\n",
      "\u001b[K     |████████████████████████████████| 3.8MB 21.3MB/s \n",
      "\u001b[?25hRequirement already satisfied: wheel>=0.26 in /usr/local/lib/python3.7/dist-packages (from tensorflow==1.15.0) (0.36.2)\n",
      "Requirement already satisfied: protobuf>=3.6.1 in /usr/local/lib/python3.7/dist-packages (from tensorflow==1.15.0) (3.12.4)\n",
      "Requirement already satisfied: wrapt>=1.11.1 in /usr/local/lib/python3.7/dist-packages (from tensorflow==1.15.0) (1.12.1)\n",
      "Requirement already satisfied: astor>=0.6.0 in /usr/local/lib/python3.7/dist-packages (from tensorflow==1.15.0) (0.8.1)\n",
      "Requirement already satisfied: h5py in /usr/local/lib/python3.7/dist-packages (from keras-applications>=1.0.8->tensorflow==1.15.0) (3.1.0)\n",
      "Requirement already satisfied: setuptools>=41.0.0 in /usr/local/lib/python3.7/dist-packages (from tensorboard<1.16.0,>=1.15.0->tensorflow==1.15.0) (57.0.0)\n",
      "Requirement already satisfied: markdown>=2.6.8 in /usr/local/lib/python3.7/dist-packages (from tensorboard<1.16.0,>=1.15.0->tensorflow==1.15.0) (3.3.4)\n",
      "Requirement already satisfied: werkzeug>=0.11.15 in /usr/local/lib/python3.7/dist-packages (from tensorboard<1.16.0,>=1.15.0->tensorflow==1.15.0) (1.0.1)\n",
      "Requirement already satisfied: cached-property; python_version < \"3.8\" in /usr/local/lib/python3.7/dist-packages (from h5py->keras-applications>=1.0.8->tensorflow==1.15.0) (1.5.2)\n",
      "Requirement already satisfied: importlib-metadata; python_version < \"3.8\" in /usr/local/lib/python3.7/dist-packages (from markdown>=2.6.8->tensorboard<1.16.0,>=1.15.0->tensorflow==1.15.0) (4.5.0)\n",
      "Requirement already satisfied: zipp>=0.5 in /usr/local/lib/python3.7/dist-packages (from importlib-metadata; python_version < \"3.8\"->markdown>=2.6.8->tensorboard<1.16.0,>=1.15.0->tensorflow==1.15.0) (3.4.1)\n",
      "Requirement already satisfied: typing-extensions>=3.6.4; python_version < \"3.8\" in /usr/local/lib/python3.7/dist-packages (from importlib-metadata; python_version < \"3.8\"->markdown>=2.6.8->tensorboard<1.16.0,>=1.15.0->tensorflow==1.15.0) (3.7.4.3)\n",
      "Building wheels for collected packages: gast\n",
      "  Building wheel for gast (setup.py) ... \u001b[?25l\u001b[?25hdone\n",
      "  Created wheel for gast: filename=gast-0.2.2-cp37-none-any.whl size=7557 sha256=32ac4257ce95dfaed2e85c6968468ef50c9ab99bbfc23abfb3bf60383a407043\n",
      "  Stored in directory: /root/.cache/pip/wheels/5c/2e/7e/a1d4d4fcebe6c381f378ce7743a3ced3699feb89bcfbdadadd\n",
      "Successfully built gast\n",
      "\u001b[31mERROR: tensorflow-probability 0.12.1 has requirement gast>=0.3.2, but you'll have gast 0.2.2 which is incompatible.\u001b[0m\n",
      "\u001b[31mERROR: kapre 0.3.5 has requirement tensorflow>=2.0.0, but you'll have tensorflow 1.15.0 which is incompatible.\u001b[0m\n",
      "Installing collected packages: gast, keras-applications, tensorflow-estimator, tensorboard, tensorflow\n",
      "  Found existing installation: gast 0.4.0\n",
      "    Uninstalling gast-0.4.0:\n",
      "      Successfully uninstalled gast-0.4.0\n",
      "  Found existing installation: tensorflow-estimator 2.5.0\n",
      "    Uninstalling tensorflow-estimator-2.5.0:\n",
      "      Successfully uninstalled tensorflow-estimator-2.5.0\n",
      "  Found existing installation: tensorboard 2.5.0\n",
      "    Uninstalling tensorboard-2.5.0:\n",
      "      Successfully uninstalled tensorboard-2.5.0\n",
      "  Found existing installation: tensorflow 2.5.0\n",
      "    Uninstalling tensorflow-2.5.0:\n",
      "      Successfully uninstalled tensorflow-2.5.0\n",
      "Successfully installed gast-0.2.2 keras-applications-1.0.8 tensorboard-1.15.0 tensorflow-1.15.0 tensorflow-estimator-1.15.1\n"
     ]
    }
   ],
   "source": [
    "#Install Tensorflow\n",
    "\n",
    "!pip3 install tensorflow==1.15.0"
   ]
  },
  {
   "cell_type": "code",
   "execution_count": null,
   "metadata": {
    "colab": {
     "base_uri": "https://localhost:8080/",
     "height": 956
    },
    "executionInfo": {
     "elapsed": 17079,
     "status": "ok",
     "timestamp": 1623692829756,
     "user": {
      "displayName": "Anonymous Submission Upload",
      "photoUrl": "",
      "userId": "02777180849015365363"
     },
     "user_tz": -120
    },
    "id": "nSM3D78BGvgb",
    "outputId": "b78fe446-91fe-499a-a863-5420fb05c234"
   },
   "outputs": [
    {
     "name": "stdout",
     "output_type": "stream",
     "text": [
      "[Errno 2] No such file or directory: 'gpt-2'\n",
      "/content\n",
      "Collecting fire>=0.1.3\n",
      "\u001b[?25l  Downloading https://files.pythonhosted.org/packages/11/07/a119a1aa04d37bc819940d95ed7e135a7dcca1c098123a3764a6dcace9e7/fire-0.4.0.tar.gz (87kB)\n",
      "\u001b[K     |████████████████████████████████| 92kB 2.8MB/s \n",
      "\u001b[?25hCollecting regex==2017.4.5\n",
      "\u001b[?25l  Downloading https://files.pythonhosted.org/packages/36/62/c0c0d762ffd4ffaf39f372eb8561b8d491a11ace5a7884610424a8b40f95/regex-2017.04.05.tar.gz (601kB)\n",
      "\u001b[K     |████████████████████████████████| 604kB 5.2MB/s \n",
      "\u001b[?25hCollecting requests==2.21.0\n",
      "\u001b[?25l  Downloading https://files.pythonhosted.org/packages/7d/e3/20f3d364d6c8e5d2353c72a67778eb189176f08e873c9900e10c0287b84b/requests-2.21.0-py2.py3-none-any.whl (57kB)\n",
      "\u001b[K     |████████████████████████████████| 61kB 4.9MB/s \n",
      "\u001b[?25hCollecting tqdm==4.31.1\n",
      "\u001b[?25l  Downloading https://files.pythonhosted.org/packages/6c/4b/c38b5144cf167c4f52288517436ccafefe9dc01b8d1c190e18a6b154cd4a/tqdm-4.31.1-py2.py3-none-any.whl (48kB)\n",
      "\u001b[K     |████████████████████████████████| 51kB 5.6MB/s \n",
      "\u001b[?25hRequirement already satisfied: six in /usr/local/lib/python3.7/dist-packages (from fire>=0.1.3->-r requirements.txt (line 1)) (1.15.0)\n",
      "Requirement already satisfied: termcolor in /usr/local/lib/python3.7/dist-packages (from fire>=0.1.3->-r requirements.txt (line 1)) (1.1.0)\n",
      "Requirement already satisfied: urllib3<1.25,>=1.21.1 in /usr/local/lib/python3.7/dist-packages (from requests==2.21.0->-r requirements.txt (line 3)) (1.24.3)\n",
      "Requirement already satisfied: certifi>=2017.4.17 in /usr/local/lib/python3.7/dist-packages (from requests==2.21.0->-r requirements.txt (line 3)) (2021.5.30)\n",
      "Requirement already satisfied: chardet<3.1.0,>=3.0.2 in /usr/local/lib/python3.7/dist-packages (from requests==2.21.0->-r requirements.txt (line 3)) (3.0.4)\n",
      "Collecting idna<2.9,>=2.5\n",
      "\u001b[?25l  Downloading https://files.pythonhosted.org/packages/14/2c/cd551d81dbe15200be1cf41cd03869a46fe7226e7450af7a6545bfc474c9/idna-2.8-py2.py3-none-any.whl (58kB)\n",
      "\u001b[K     |████████████████████████████████| 61kB 6.5MB/s \n",
      "\u001b[?25hBuilding wheels for collected packages: fire, regex\n",
      "  Building wheel for fire (setup.py) ... \u001b[?25l\u001b[?25hdone\n",
      "  Created wheel for fire: filename=fire-0.4.0-py2.py3-none-any.whl size=115943 sha256=6bafe333c0a8a68fc4586728826cc5e9ea9f2da498456c2c67d70ee9ba355563\n",
      "  Stored in directory: /root/.cache/pip/wheels/af/19/30/1ea0cad502dcb4e66ed5a690279628c827aea38bbbab75d5ed\n",
      "  Building wheel for regex (setup.py) ... \u001b[?25l\u001b[?25hdone\n",
      "  Created wheel for regex: filename=regex-2017.4.5-cp37-cp37m-linux_x86_64.whl size=534413 sha256=c30d988365c7440a2190c5e4c94a44d39304240012c89777ac5500aefc470828\n",
      "  Stored in directory: /root/.cache/pip/wheels/75/07/38/3c16b529d50cb4e0cd3dbc7b75cece8a09c132692c74450b01\n",
      "Successfully built fire regex\n",
      "\u001b[31mERROR: spacy 2.2.4 has requirement tqdm<5.0.0,>=4.38.0, but you'll have tqdm 4.31.1 which is incompatible.\u001b[0m\n",
      "\u001b[31mERROR: kapre 0.3.5 has requirement tensorflow>=2.0.0, but you'll have tensorflow 1.15.0 which is incompatible.\u001b[0m\n",
      "\u001b[31mERROR: google-colab 1.0.0 has requirement requests~=2.23.0, but you'll have requests 2.21.0 which is incompatible.\u001b[0m\n",
      "\u001b[31mERROR: fbprophet 0.7.1 has requirement tqdm>=4.36.1, but you'll have tqdm 4.31.1 which is incompatible.\u001b[0m\n",
      "\u001b[31mERROR: datascience 0.10.6 has requirement folium==0.2.1, but you'll have folium 0.8.3 which is incompatible.\u001b[0m\n",
      "Installing collected packages: fire, regex, idna, requests, tqdm\n",
      "  Found existing installation: regex 2019.12.20\n",
      "    Uninstalling regex-2019.12.20:\n",
      "      Successfully uninstalled regex-2019.12.20\n",
      "  Found existing installation: idna 2.10\n",
      "    Uninstalling idna-2.10:\n",
      "      Successfully uninstalled idna-2.10\n",
      "  Found existing installation: requests 2.23.0\n",
      "    Uninstalling requests-2.23.0:\n",
      "      Successfully uninstalled requests-2.23.0\n",
      "  Found existing installation: tqdm 4.41.1\n",
      "    Uninstalling tqdm-4.41.1:\n",
      "      Successfully uninstalled tqdm-4.41.1\n",
      "Successfully installed fire-0.4.0 idna-2.8 regex-2017.4.5 requests-2.21.0 tqdm-4.31.1\n"
     ]
    },
    {
     "data": {
      "application/vnd.colab-display-data+json": {
       "pip_warning": {
        "packages": [
         "idna",
         "requests"
        ]
       }
      }
     },
     "metadata": {
      "tags": []
     },
     "output_type": "display_data"
    }
   ],
   "source": [
    "#Install requirements\n",
    "\n",
    "%cd gpt-2\n",
    "!pip3 install -r requirements.txt"
   ]
  },
  {
   "cell_type": "code",
   "execution_count": null,
   "metadata": {
    "colab": {
     "base_uri": "https://localhost:8080/"
    },
    "executionInfo": {
     "elapsed": 399,
     "status": "ok",
     "timestamp": 1623692830145,
     "user": {
      "displayName": "Anonymous Submission Upload",
      "photoUrl": "",
      "userId": "02777180849015365363"
     },
     "user_tz": -120
    },
    "id": "-qIBY-SCG6Xt",
    "outputId": "ed7947f4-12d9-4f05-ec24-dc56c2221a66"
   },
   "outputs": [
    {
     "name": "stdout",
     "output_type": "stream",
     "text": [
      "[Errno 2] No such file or directory: 'gpt-2'\n",
      "/content\n"
     ]
    }
   ],
   "source": [
    "#More GPT2 requirements before running the model\n",
    "\n",
    "%cd gpt-2\n",
    "!export PYTHONIOENCODING=UTF-8"
   ]
  },
  {
   "cell_type": "code",
   "execution_count": null,
   "metadata": {
    "colab": {
     "base_uri": "https://localhost:8080/"
    },
    "executionInfo": {
     "elapsed": 400,
     "status": "ok",
     "timestamp": 1623692830542,
     "user": {
      "displayName": "Anonymous Submission Upload",
      "photoUrl": "",
      "userId": "02777180849015365363"
     },
     "user_tz": -120
    },
    "id": "C69ctzgTG-0R",
    "outputId": "ba963568-58a1-4862-a56e-726ce44e343e"
   },
   "outputs": [
    {
     "name": "stdout",
     "output_type": "stream",
     "text": [
      "\r",
      "Fetching checkpoint:   0%|                                               | 0.00/133 [00:00<?, ?it/s]\r",
      "Fetching checkpoint: 1.00kit [00:00, 621kit/s]                                                      \n",
      "\r",
      "Fetching encoder.json:   0%|                                             | 0.00/133 [00:00<?, ?it/s]\r",
      "Fetching encoder.json: 1.00kit [00:00, 554kit/s]                                                    \n",
      "Fetching hparams.json: 1.00kit [00:00, 750kit/s]                                                    \n",
      "Fetching model.ckpt.data-00000-of-00001: 1.00kit [00:00, 775kit/s]                                  \n",
      "Fetching model.ckpt.index: 1.00kit [00:00, 733kit/s]                                                \n",
      "Fetching model.ckpt.meta: 1.00kit [00:00, 707kit/s]                                                 \n",
      "Fetching vocab.bpe: 1.00kit [00:00, 767kit/s]                                                       \n"
     ]
    }
   ],
   "source": [
    "#Download the desired model (in this experiment we will use the 774M parameters model)\n",
    "\n",
    "!python3 download_model.py 774M"
   ]
  },
  {
   "cell_type": "markdown",
   "metadata": {
    "id": "eS2cifwUkrf_"
   },
   "source": [
    "# 2. Queries building"
   ]
  },
  {
   "cell_type": "code",
   "execution_count": 9,
   "metadata": {
    "colab": {
     "base_uri": "https://localhost:8080/"
    },
    "executionInfo": {
     "elapsed": 335,
     "status": "ok",
     "timestamp": 1623236191615,
     "user": {
      "displayName": "Anonymous Submission Upload",
      "photoUrl": "",
      "userId": "02777180849015365363"
     },
     "user_tz": -120
    },
    "id": "KchUJQLrAWk0",
    "outputId": "bdaf2400-1f8e-4b29-bf89-cd2c61d7ef27"
   },
   "outputs": [
    {
     "name": "stdout",
     "output_type": "stream",
     "text": [
      "[[['Input1: 0, Output1: 0; Input2: 00000, Output2:', 'Input1: 0, Output1: 0; Input2: 0, Output2: 0; Input3: 11100, Output3:', 'Input1: 0, Output1: 0; Input2: 0, Output2: 0; Input3: 0, Output3: 0; Input4: 00111, Output4:', 'Input1: 0, Output1: 0; Input2: 0, Output2: 0; Input3: 0, Output3: 0; Input4: 0, Output4: 0; Input5: 11010, Output5:', 'Input1: 0, Output1: 0; Input2: 0, Output2: 0; Input3: 0, Output3: 0; Input4: 0, Output4: 0; Input5: 0, Output5: 0; Input6: 0010, Output6:'], ['Input1: 0, Output1: 0; Input2: 0, Output2: 0; Input3: 0, Output3: 0; Input4: 0, Output4: 0; Input5: 0, Output5: 0; Input6: 111001, Output6: 1; Input7: 110101, Output7: 1; Input8: 00000, Output8:', 'Input1: 0, Output1: 0; Input2: 0, Output2: 0; Input3: 0, Output3: 0; Input4: 0, Output4: 0; Input5: 0, Output5: 0; Input6: 111001, Output6: 1; Input7: 110101, Output7: 1; Input8: 111001, Output8: 1; Input9: 110101, Output9: 1; Input10: 11100, Output10:', 'Input1: 0, Output1: 0; Input2: 0, Output2: 0; Input3: 0, Output3: 0; Input4: 0, Output4: 0; Input5: 0, Output5: 0; Input6: 111001, Output6: 1; Input7: 110101, Output7: 1; Input8: 111001, Output8: 1; Input9: 110101, Output9: 1; Input10: 111001, Output10: 1; Input11: 110101, Output11: 1; Input12: 00111, Output12:', 'Input1: 0, Output1: 0; Input2: 0, Output2: 0; Input3: 0, Output3: 0; Input4: 0, Output4: 0; Input5: 0, Output5: 0; Input6: 111001, Output6: 1; Input7: 110101, Output7: 1; Input8: 111001, Output8: 1; Input9: 110101, Output9: 1; Input10: 111001, Output10: 1; Input11: 110101, Output11: 1; Input12: 111001, Output12: 1; Input13: 110101, Output13: 1; Input14: 11010, Output14:', 'Input1: 0, Output1: 0; Input2: 0, Output2: 0; Input3: 0, Output3: 0; Input4: 0, Output4: 0; Input5: 0, Output5: 0; Input6: 111001, Output6: 1; Input7: 110101, Output7: 1; Input8: 111001, Output8: 1; Input9: 110101, Output9: 1; Input10: 111001, Output10: 1; Input11: 110101, Output11: 1; Input12: 111001, Output12: 1; Input13: 110101, Output13: 1; Input14: 111001, Output14: 1; Input15: 110101, Output15: 1; Input16: 0010, Output16:'], ['Input1: 0, Output1: 0; Input2: 0, Output2: 0; Input3: 0, Output3: 0; Input4: 0, Output4: 0; Input5: 0, Output5: 0; Input6: 111001, Output6: 1; Input7: 110101, Output7: 1; Input8: 111001, Output8: 1; Input9: 110101, Output9: 1; Input10: 111001, Output10: 1; Input11: 110101, Output11: 1; Input12: 111001, Output12: 1; Input13: 110101, Output13: 1; Input14: 111001, Output14: 1; Input15: 110101, Output15: 1; Input16: 100110, Output16: 1; Input17: 111100, Output17: 1; Input18: 01010, Output18: 0; Input19: 00000, Output19:', 'Input1: 0, Output1: 0; Input2: 0, Output2: 0; Input3: 0, Output3: 0; Input4: 0, Output4: 0; Input5: 0, Output5: 0; Input6: 111001, Output6: 1; Input7: 110101, Output7: 1; Input8: 111001, Output8: 1; Input9: 110101, Output9: 1; Input10: 111001, Output10: 1; Input11: 110101, Output11: 1; Input12: 111001, Output12: 1; Input13: 110101, Output13: 1; Input14: 111001, Output14: 1; Input15: 110101, Output15: 1; Input16: 100110, Output16: 1; Input17: 111100, Output17: 1; Input18: 01010, Output18: 0; Input19: 100110, Output19: 1; Input20: 111100, Output20: 1; Input21: 01010, Output21: 0; Input22: 11100, Output22:', 'Input1: 0, Output1: 0; Input2: 0, Output2: 0; Input3: 0, Output3: 0; Input4: 0, Output4: 0; Input5: 0, Output5: 0; Input6: 111001, Output6: 1; Input7: 110101, Output7: 1; Input8: 111001, Output8: 1; Input9: 110101, Output9: 1; Input10: 111001, Output10: 1; Input11: 110101, Output11: 1; Input12: 111001, Output12: 1; Input13: 110101, Output13: 1; Input14: 111001, Output14: 1; Input15: 110101, Output15: 1; Input16: 100110, Output16: 1; Input17: 111100, Output17: 1; Input18: 01010, Output18: 0; Input19: 100110, Output19: 1; Input20: 111100, Output20: 1; Input21: 01010, Output21: 0; Input22: 100110, Output22: 1; Input23: 111100, Output23: 1; Input24: 01010, Output24: 0; Input25: 00111, Output25:', 'Input1: 0, Output1: 0; Input2: 0, Output2: 0; Input3: 0, Output3: 0; Input4: 0, Output4: 0; Input5: 0, Output5: 0; Input6: 111001, Output6: 1; Input7: 110101, Output7: 1; Input8: 111001, Output8: 1; Input9: 110101, Output9: 1; Input10: 111001, Output10: 1; Input11: 110101, Output11: 1; Input12: 111001, Output12: 1; Input13: 110101, Output13: 1; Input14: 111001, Output14: 1; Input15: 110101, Output15: 1; Input16: 100110, Output16: 1; Input17: 111100, Output17: 1; Input18: 01010, Output18: 0; Input19: 100110, Output19: 1; Input20: 111100, Output20: 1; Input21: 01010, Output21: 0; Input22: 100110, Output22: 1; Input23: 111100, Output23: 1; Input24: 01010, Output24: 0; Input25: 100110, Output25: 1; Input26: 111100, Output26: 1; Input27: 01010, Output27: 0; Input28: 11010, Output28:', 'Input1: 0, Output1: 0; Input2: 0, Output2: 0; Input3: 0, Output3: 0; Input4: 0, Output4: 0; Input5: 0, Output5: 0; Input6: 111001, Output6: 1; Input7: 110101, Output7: 1; Input8: 111001, Output8: 1; Input9: 110101, Output9: 1; Input10: 111001, Output10: 1; Input11: 110101, Output11: 1; Input12: 111001, Output12: 1; Input13: 110101, Output13: 1; Input14: 111001, Output14: 1; Input15: 110101, Output15: 1; Input16: 100110, Output16: 1; Input17: 111100, Output17: 1; Input18: 01010, Output18: 0; Input19: 100110, Output19: 1; Input20: 111100, Output20: 1; Input21: 01010, Output21: 0; Input22: 100110, Output22: 1; Input23: 111100, Output23: 1; Input24: 01010, Output24: 0; Input25: 100110, Output25: 1; Input26: 111100, Output26: 1; Input27: 01010, Output27: 0; Input28: 100110, Output28: 1; Input29: 111100, Output29: 1; Input30: 01010, Output30: 0; Input31: 0010, Output31:']], [['Input1: 10, Output1: 0; Input2: 01011, Output2:', 'Input1: 10, Output1: 0; Input2: 10, Output2: 0; Input3: 0101, Output3:', 'Input1: 10, Output1: 0; Input2: 10, Output2: 0; Input3: 10, Output3: 0; Input4: 0010, Output4:', 'Input1: 10, Output1: 0; Input2: 10, Output2: 0; Input3: 10, Output3: 0; Input4: 10, Output4: 0; Input5: 100, Output5:', 'Input1: 10, Output1: 0; Input2: 10, Output2: 0; Input3: 10, Output3: 0; Input4: 10, Output4: 0; Input5: 10, Output5: 0; Input6: 1, Output6:'], ['Input1: 10, Output1: 0; Input2: 10, Output2: 0; Input3: 10, Output3: 0; Input4: 10, Output4: 0; Input5: 10, Output5: 0; Input6: 01000, Output6: 1; Input7: 01010, Output7: 1; Input8: 01011, Output8:', 'Input1: 10, Output1: 0; Input2: 10, Output2: 0; Input3: 10, Output3: 0; Input4: 10, Output4: 0; Input5: 10, Output5: 0; Input6: 01000, Output6: 1; Input7: 01010, Output7: 1; Input8: 01000, Output8: 1; Input9: 01010, Output9: 1; Input10: 0101, Output10:', 'Input1: 10, Output1: 0; Input2: 10, Output2: 0; Input3: 10, Output3: 0; Input4: 10, Output4: 0; Input5: 10, Output5: 0; Input6: 01000, Output6: 1; Input7: 01010, Output7: 1; Input8: 01000, Output8: 1; Input9: 01010, Output9: 1; Input10: 01000, Output10: 1; Input11: 01010, Output11: 1; Input12: 0010, Output12:', 'Input1: 10, Output1: 0; Input2: 10, Output2: 0; Input3: 10, Output3: 0; Input4: 10, Output4: 0; Input5: 10, Output5: 0; Input6: 01000, Output6: 1; Input7: 01010, Output7: 1; Input8: 01000, Output8: 1; Input9: 01010, Output9: 1; Input10: 01000, Output10: 1; Input11: 01010, Output11: 1; Input12: 01000, Output12: 1; Input13: 01010, Output13: 1; Input14: 100, Output14:', 'Input1: 10, Output1: 0; Input2: 10, Output2: 0; Input3: 10, Output3: 0; Input4: 10, Output4: 0; Input5: 10, Output5: 0; Input6: 01000, Output6: 1; Input7: 01010, Output7: 1; Input8: 01000, Output8: 1; Input9: 01010, Output9: 1; Input10: 01000, Output10: 1; Input11: 01010, Output11: 1; Input12: 01000, Output12: 1; Input13: 01010, Output13: 1; Input14: 01000, Output14: 1; Input15: 01010, Output15: 1; Input16: 1, Output16:'], ['Input1: 10, Output1: 0; Input2: 10, Output2: 0; Input3: 10, Output3: 0; Input4: 10, Output4: 0; Input5: 10, Output5: 0; Input6: 01000, Output6: 1; Input7: 01010, Output7: 1; Input8: 01000, Output8: 1; Input9: 01010, Output9: 1; Input10: 01000, Output10: 1; Input11: 01010, Output11: 1; Input12: 01000, Output12: 1; Input13: 01010, Output13: 1; Input14: 01000, Output14: 1; Input15: 01010, Output15: 1; Input16: 001, Output16: 0; Input17: 00, Output17: 0; Input18: 1011, Output18: 0; Input19: 01011, Output19:', 'Input1: 10, Output1: 0; Input2: 10, Output2: 0; Input3: 10, Output3: 0; Input4: 10, Output4: 0; Input5: 10, Output5: 0; Input6: 01000, Output6: 1; Input7: 01010, Output7: 1; Input8: 01000, Output8: 1; Input9: 01010, Output9: 1; Input10: 01000, Output10: 1; Input11: 01010, Output11: 1; Input12: 01000, Output12: 1; Input13: 01010, Output13: 1; Input14: 01000, Output14: 1; Input15: 01010, Output15: 1; Input16: 001, Output16: 0; Input17: 00, Output17: 0; Input18: 1011, Output18: 0; Input19: 001, Output19: 0; Input20: 00, Output20: 0; Input21: 1011, Output21: 0; Input22: 0101, Output22:', 'Input1: 10, Output1: 0; Input2: 10, Output2: 0; Input3: 10, Output3: 0; Input4: 10, Output4: 0; Input5: 10, Output5: 0; Input6: 01000, Output6: 1; Input7: 01010, Output7: 1; Input8: 01000, Output8: 1; Input9: 01010, Output9: 1; Input10: 01000, Output10: 1; Input11: 01010, Output11: 1; Input12: 01000, Output12: 1; Input13: 01010, Output13: 1; Input14: 01000, Output14: 1; Input15: 01010, Output15: 1; Input16: 001, Output16: 0; Input17: 00, Output17: 0; Input18: 1011, Output18: 0; Input19: 001, Output19: 0; Input20: 00, Output20: 0; Input21: 1011, Output21: 0; Input22: 001, Output22: 0; Input23: 00, Output23: 0; Input24: 1011, Output24: 0; Input25: 0010, Output25:', 'Input1: 10, Output1: 0; Input2: 10, Output2: 0; Input3: 10, Output3: 0; Input4: 10, Output4: 0; Input5: 10, Output5: 0; Input6: 01000, Output6: 1; Input7: 01010, Output7: 1; Input8: 01000, Output8: 1; Input9: 01010, Output9: 1; Input10: 01000, Output10: 1; Input11: 01010, Output11: 1; Input12: 01000, Output12: 1; Input13: 01010, Output13: 1; Input14: 01000, Output14: 1; Input15: 01010, Output15: 1; Input16: 001, Output16: 0; Input17: 00, Output17: 0; Input18: 1011, Output18: 0; Input19: 001, Output19: 0; Input20: 00, Output20: 0; Input21: 1011, Output21: 0; Input22: 001, Output22: 0; Input23: 00, Output23: 0; Input24: 1011, Output24: 0; Input25: 001, Output25: 0; Input26: 00, Output26: 0; Input27: 1011, Output27: 0; Input28: 100, Output28:', 'Input1: 10, Output1: 0; Input2: 10, Output2: 0; Input3: 10, Output3: 0; Input4: 10, Output4: 0; Input5: 10, Output5: 0; Input6: 01000, Output6: 1; Input7: 01010, Output7: 1; Input8: 01000, Output8: 1; Input9: 01010, Output9: 1; Input10: 01000, Output10: 1; Input11: 01010, Output11: 1; Input12: 01000, Output12: 1; Input13: 01010, Output13: 1; Input14: 01000, Output14: 1; Input15: 01010, Output15: 1; Input16: 001, Output16: 0; Input17: 00, Output17: 0; Input18: 1011, Output18: 0; Input19: 001, Output19: 0; Input20: 00, Output20: 0; Input21: 1011, Output21: 0; Input22: 001, Output22: 0; Input23: 00, Output23: 0; Input24: 1011, Output24: 0; Input25: 001, Output25: 0; Input26: 00, Output26: 0; Input27: 1011, Output27: 0; Input28: 001, Output28: 0; Input29: 00, Output29: 0; Input30: 1011, Output30: 0; Input31: 1, Output31:']], [['Input1: -, Output1: 0; Input2: 01, Output2: -; Input3: 00010, Output3:', 'Input1: -, Output1: 0; Input2: 01, Output2: -; Input3: -, Output3: 0; Input4: 01, Output4: -; Input5: 110, Output5:', 'Input1: -, Output1: 0; Input2: 01, Output2: -; Input3: -, Output3: 0; Input4: 01, Output4: -; Input5: -, Output5: 0; Input6: 01, Output6: -; Input7: 00111, Output7:', 'Input1: -, Output1: 0; Input2: 01, Output2: -; Input3: -, Output3: 0; Input4: 01, Output4: -; Input5: -, Output5: 0; Input6: 01, Output6: -; Input7: -, Output7: 0; Input8: 01, Output8: -; Input9: 11000, Output9:', 'Input1: -, Output1: 0; Input2: 01, Output2: -; Input3: -, Output3: 0; Input4: 01, Output4: -; Input5: -, Output5: 0; Input6: 01, Output6: -; Input7: -, Output7: 0; Input8: 01, Output8: -; Input9: -, Output9: 0; Input10: 01, Output10: -; Input11: 101, Output11:'], ['Input1: -, Output1: 0; Input2: 01, Output2: -; Input3: -, Output3: 0; Input4: 01, Output4: -; Input5: -, Output5: 0; Input6: 01, Output6: -; Input7: -, Output7: 0; Input8: 01, Output8: -; Input9: -, Output9: 0; Input10: 01, Output10: -; Input11: 010100, Output11: -; Input12: 10101, Output12: 1; Input13: 00010, Output13:', 'Input1: -, Output1: 0; Input2: 01, Output2: -; Input3: -, Output3: 0; Input4: 01, Output4: -; Input5: -, Output5: 0; Input6: 01, Output6: -; Input7: -, Output7: 0; Input8: 01, Output8: -; Input9: -, Output9: 0; Input10: 01, Output10: -; Input11: 010100, Output11: -; Input12: 10101, Output12: 1; Input13: 010100, Output13: -; Input14: 10101, Output14: 1; Input15: 110, Output15:', 'Input1: -, Output1: 0; Input2: 01, Output2: -; Input3: -, Output3: 0; Input4: 01, Output4: -; Input5: -, Output5: 0; Input6: 01, Output6: -; Input7: -, Output7: 0; Input8: 01, Output8: -; Input9: -, Output9: 0; Input10: 01, Output10: -; Input11: 010100, Output11: -; Input12: 10101, Output12: 1; Input13: 010100, Output13: -; Input14: 10101, Output14: 1; Input15: 010100, Output15: -; Input16: 10101, Output16: 1; Input17: 00111, Output17:', 'Input1: -, Output1: 0; Input2: 01, Output2: -; Input3: -, Output3: 0; Input4: 01, Output4: -; Input5: -, Output5: 0; Input6: 01, Output6: -; Input7: -, Output7: 0; Input8: 01, Output8: -; Input9: -, Output9: 0; Input10: 01, Output10: -; Input11: 010100, Output11: -; Input12: 10101, Output12: 1; Input13: 010100, Output13: -; Input14: 10101, Output14: 1; Input15: 010100, Output15: -; Input16: 10101, Output16: 1; Input17: 010100, Output17: -; Input18: 10101, Output18: 1; Input19: 11000, Output19:', 'Input1: -, Output1: 0; Input2: 01, Output2: -; Input3: -, Output3: 0; Input4: 01, Output4: -; Input5: -, Output5: 0; Input6: 01, Output6: -; Input7: -, Output7: 0; Input8: 01, Output8: -; Input9: -, Output9: 0; Input10: 01, Output10: -; Input11: 010100, Output11: -; Input12: 10101, Output12: 1; Input13: 010100, Output13: -; Input14: 10101, Output14: 1; Input15: 010100, Output15: -; Input16: 10101, Output16: 1; Input17: 010100, Output17: -; Input18: 10101, Output18: 1; Input19: 010100, Output19: -; Input20: 10101, Output20: 1; Input21: 101, Output21:'], ['Input1: -, Output1: 0; Input2: 01, Output2: -; Input3: -, Output3: 0; Input4: 01, Output4: -; Input5: -, Output5: 0; Input6: 01, Output6: -; Input7: -, Output7: 0; Input8: 01, Output8: -; Input9: -, Output9: 0; Input10: 01, Output10: -; Input11: 010100, Output11: -; Input12: 10101, Output12: 1; Input13: 010100, Output13: -; Input14: 10101, Output14: 1; Input15: 010100, Output15: -; Input16: 10101, Output16: 1; Input17: 010100, Output17: -; Input18: 10101, Output18: 1; Input19: 010100, Output19: -; Input20: 10101, Output20: 1; Input21: 010, Output21: -; Input22: 100, Output22: 1; Input23: 011101, Output23: -; Input24: 00010, Output24:', 'Input1: -, Output1: 0; Input2: 01, Output2: -; Input3: -, Output3: 0; Input4: 01, Output4: -; Input5: -, Output5: 0; Input6: 01, Output6: -; Input7: -, Output7: 0; Input8: 01, Output8: -; Input9: -, Output9: 0; Input10: 01, Output10: -; Input11: 010100, Output11: -; Input12: 10101, Output12: 1; Input13: 010100, Output13: -; Input14: 10101, Output14: 1; Input15: 010100, Output15: -; Input16: 10101, Output16: 1; Input17: 010100, Output17: -; Input18: 10101, Output18: 1; Input19: 010100, Output19: -; Input20: 10101, Output20: 1; Input21: 010, Output21: -; Input22: 100, Output22: 1; Input23: 011101, Output23: -; Input24: 010, Output24: -; Input25: 100, Output25: 1; Input26: 011101, Output26: -; Input27: 110, Output27:', 'Input1: -, Output1: 0; Input2: 01, Output2: -; Input3: -, Output3: 0; Input4: 01, Output4: -; Input5: -, Output5: 0; Input6: 01, Output6: -; Input7: -, Output7: 0; Input8: 01, Output8: -; Input9: -, Output9: 0; Input10: 01, Output10: -; Input11: 010100, Output11: -; Input12: 10101, Output12: 1; Input13: 010100, Output13: -; Input14: 10101, Output14: 1; Input15: 010100, Output15: -; Input16: 10101, Output16: 1; Input17: 010100, Output17: -; Input18: 10101, Output18: 1; Input19: 010100, Output19: -; Input20: 10101, Output20: 1; Input21: 010, Output21: -; Input22: 100, Output22: 1; Input23: 011101, Output23: -; Input24: 010, Output24: -; Input25: 100, Output25: 1; Input26: 011101, Output26: -; Input27: 010, Output27: -; Input28: 100, Output28: 1; Input29: 011101, Output29: -; Input30: 00111, Output30:', 'Input1: -, Output1: 0; Input2: 01, Output2: -; Input3: -, Output3: 0; Input4: 01, Output4: -; Input5: -, Output5: 0; Input6: 01, Output6: -; Input7: -, Output7: 0; Input8: 01, Output8: -; Input9: -, Output9: 0; Input10: 01, Output10: -; Input11: 010100, Output11: -; Input12: 10101, Output12: 1; Input13: 010100, Output13: -; Input14: 10101, Output14: 1; Input15: 010100, Output15: -; Input16: 10101, Output16: 1; Input17: 010100, Output17: -; Input18: 10101, Output18: 1; Input19: 010100, Output19: -; Input20: 10101, Output20: 1; Input21: 010, Output21: -; Input22: 100, Output22: 1; Input23: 011101, Output23: -; Input24: 010, Output24: -; Input25: 100, Output25: 1; Input26: 011101, Output26: -; Input27: 010, Output27: -; Input28: 100, Output28: 1; Input29: 011101, Output29: -; Input30: 010, Output30: -; Input31: 100, Output31: 1; Input32: 011101, Output32: -; Input33: 11000, Output33:', 'Input1: -, Output1: 0; Input2: 01, Output2: -; Input3: -, Output3: 0; Input4: 01, Output4: -; Input5: -, Output5: 0; Input6: 01, Output6: -; Input7: -, Output7: 0; Input8: 01, Output8: -; Input9: -, Output9: 0; Input10: 01, Output10: -; Input11: 010100, Output11: -; Input12: 10101, Output12: 1; Input13: 010100, Output13: -; Input14: 10101, Output14: 1; Input15: 010100, Output15: -; Input16: 10101, Output16: 1; Input17: 010100, Output17: -; Input18: 10101, Output18: 1; Input19: 010100, Output19: -; Input20: 10101, Output20: 1; Input21: 010, Output21: -; Input22: 100, Output22: 1; Input23: 011101, Output23: -; Input24: 010, Output24: -; Input25: 100, Output25: 1; Input26: 011101, Output26: -; Input27: 010, Output27: -; Input28: 100, Output28: 1; Input29: 011101, Output29: -; Input30: 010, Output30: -; Input31: 100, Output31: 1; Input32: 011101, Output32: -; Input33: 010, Output33: -; Input34: 100, Output34: 1; Input35: 011101, Output35: -; Input36: 101, Output36:']], [['Input1: 0, Output1: 011; Input2: 01011, Output2:', 'Input1: 0, Output1: 011; Input2: 0, Output2: 011; Input3: 0101, Output3:', 'Input1: 0, Output1: 011; Input2: 0, Output2: 011; Input3: 0, Output3: 011; Input4: 0010, Output4:', 'Input1: 0, Output1: 011; Input2: 0, Output2: 011; Input3: 0, Output3: 011; Input4: 0, Output4: 011; Input5: 100, Output5:', 'Input1: 0, Output1: 011; Input2: 0, Output2: 011; Input3: 0, Output3: 011; Input4: 0, Output4: 011; Input5: 0, Output5: 011; Input6: 1, Output6:'], ['Input1: 0, Output1: 011; Input2: 0, Output2: 011; Input3: 0, Output3: 011; Input4: 0, Output4: 011; Input5: 0, Output5: 011; Input6: 10, Output6: 1; Input7: 001, Output7: 011; Input8: 01011, Output8:', 'Input1: 0, Output1: 011; Input2: 0, Output2: 011; Input3: 0, Output3: 011; Input4: 0, Output4: 011; Input5: 0, Output5: 011; Input6: 10, Output6: 1; Input7: 001, Output7: 011; Input8: 10, Output8: 1; Input9: 001, Output9: 011; Input10: 0101, Output10:', 'Input1: 0, Output1: 011; Input2: 0, Output2: 011; Input3: 0, Output3: 011; Input4: 0, Output4: 011; Input5: 0, Output5: 011; Input6: 10, Output6: 1; Input7: 001, Output7: 011; Input8: 10, Output8: 1; Input9: 001, Output9: 011; Input10: 10, Output10: 1; Input11: 001, Output11: 011; Input12: 0010, Output12:', 'Input1: 0, Output1: 011; Input2: 0, Output2: 011; Input3: 0, Output3: 011; Input4: 0, Output4: 011; Input5: 0, Output5: 011; Input6: 10, Output6: 1; Input7: 001, Output7: 011; Input8: 10, Output8: 1; Input9: 001, Output9: 011; Input10: 10, Output10: 1; Input11: 001, Output11: 011; Input12: 10, Output12: 1; Input13: 001, Output13: 011; Input14: 100, Output14:', 'Input1: 0, Output1: 011; Input2: 0, Output2: 011; Input3: 0, Output3: 011; Input4: 0, Output4: 011; Input5: 0, Output5: 011; Input6: 10, Output6: 1; Input7: 001, Output7: 011; Input8: 10, Output8: 1; Input9: 001, Output9: 011; Input10: 10, Output10: 1; Input11: 001, Output11: 011; Input12: 10, Output12: 1; Input13: 001, Output13: 011; Input14: 10, Output14: 1; Input15: 001, Output15: 011; Input16: 1, Output16:'], ['Input1: 0, Output1: 011; Input2: 0, Output2: 011; Input3: 0, Output3: 011; Input4: 0, Output4: 011; Input5: 0, Output5: 011; Input6: 10, Output6: 1; Input7: 001, Output7: 011; Input8: 10, Output8: 1; Input9: 001, Output9: 011; Input10: 10, Output10: 1; Input11: 001, Output11: 011; Input12: 10, Output12: 1; Input13: 001, Output13: 011; Input14: 10, Output14: 1; Input15: 001, Output15: 011; Input16: 0001, Output16: 011; Input17: 00, Output17: 011; Input18: 000, Output18: 011; Input19: 01011, Output19:', 'Input1: 0, Output1: 011; Input2: 0, Output2: 011; Input3: 0, Output3: 011; Input4: 0, Output4: 011; Input5: 0, Output5: 011; Input6: 10, Output6: 1; Input7: 001, Output7: 011; Input8: 10, Output8: 1; Input9: 001, Output9: 011; Input10: 10, Output10: 1; Input11: 001, Output11: 011; Input12: 10, Output12: 1; Input13: 001, Output13: 011; Input14: 10, Output14: 1; Input15: 001, Output15: 011; Input16: 0001, Output16: 011; Input17: 00, Output17: 011; Input18: 000, Output18: 011; Input19: 0001, Output19: 011; Input20: 00, Output20: 011; Input21: 000, Output21: 011; Input22: 0101, Output22:', 'Input1: 0, Output1: 011; Input2: 0, Output2: 011; Input3: 0, Output3: 011; Input4: 0, Output4: 011; Input5: 0, Output5: 011; Input6: 10, Output6: 1; Input7: 001, Output7: 011; Input8: 10, Output8: 1; Input9: 001, Output9: 011; Input10: 10, Output10: 1; Input11: 001, Output11: 011; Input12: 10, Output12: 1; Input13: 001, Output13: 011; Input14: 10, Output14: 1; Input15: 001, Output15: 011; Input16: 0001, Output16: 011; Input17: 00, Output17: 011; Input18: 000, Output18: 011; Input19: 0001, Output19: 011; Input20: 00, Output20: 011; Input21: 000, Output21: 011; Input22: 0001, Output22: 011; Input23: 00, Output23: 011; Input24: 000, Output24: 011; Input25: 0010, Output25:', 'Input1: 0, Output1: 011; Input2: 0, Output2: 011; Input3: 0, Output3: 011; Input4: 0, Output4: 011; Input5: 0, Output5: 011; Input6: 10, Output6: 1; Input7: 001, Output7: 011; Input8: 10, Output8: 1; Input9: 001, Output9: 011; Input10: 10, Output10: 1; Input11: 001, Output11: 011; Input12: 10, Output12: 1; Input13: 001, Output13: 011; Input14: 10, Output14: 1; Input15: 001, Output15: 011; Input16: 0001, Output16: 011; Input17: 00, Output17: 011; Input18: 000, Output18: 011; Input19: 0001, Output19: 011; Input20: 00, Output20: 011; Input21: 000, Output21: 011; Input22: 0001, Output22: 011; Input23: 00, Output23: 011; Input24: 000, Output24: 011; Input25: 0001, Output25: 011; Input26: 00, Output26: 011; Input27: 000, Output27: 011; Input28: 100, Output28:', 'Input1: 0, Output1: 011; Input2: 0, Output2: 011; Input3: 0, Output3: 011; Input4: 0, Output4: 011; Input5: 0, Output5: 011; Input6: 10, Output6: 1; Input7: 001, Output7: 011; Input8: 10, Output8: 1; Input9: 001, Output9: 011; Input10: 10, Output10: 1; Input11: 001, Output11: 011; Input12: 10, Output12: 1; Input13: 001, Output13: 011; Input14: 10, Output14: 1; Input15: 001, Output15: 011; Input16: 0001, Output16: 011; Input17: 00, Output17: 011; Input18: 000, Output18: 011; Input19: 0001, Output19: 011; Input20: 00, Output20: 011; Input21: 000, Output21: 011; Input22: 0001, Output22: 011; Input23: 00, Output23: 011; Input24: 000, Output24: 011; Input25: 0001, Output25: 011; Input26: 00, Output26: 011; Input27: 000, Output27: 011; Input28: 0001, Output28: 011; Input29: 00, Output29: 011; Input30: 000, Output30: 011; Input31: 1, Output31:']], [['Input1: -, Output1: 1; Input2: 1110, Output2: -; Input3: 01011, Output3:', 'Input1: -, Output1: 1; Input2: 1110, Output2: -; Input3: -, Output3: 1; Input4: 1110, Output4: -; Input5: 110, Output5:', 'Input1: -, Output1: 1; Input2: 1110, Output2: -; Input3: -, Output3: 1; Input4: 1110, Output4: -; Input5: -, Output5: 1; Input6: 1110, Output6: -; Input7: 0010, Output7:', 'Input1: -, Output1: 1; Input2: 1110, Output2: -; Input3: -, Output3: 1; Input4: 1110, Output4: -; Input5: -, Output5: 1; Input6: 1110, Output6: -; Input7: -, Output7: 1; Input8: 1110, Output8: -; Input9: 101, Output9:', 'Input1: -, Output1: 1; Input2: 1110, Output2: -; Input3: -, Output3: 1; Input4: 1110, Output4: -; Input5: -, Output5: 1; Input6: 1110, Output6: -; Input7: -, Output7: 1; Input8: 1110, Output8: -; Input9: -, Output9: 1; Input10: 1110, Output10: -; Input11: 1000, Output11:'], ['Input1: -, Output1: 1; Input2: 1110, Output2: -; Input3: -, Output3: 1; Input4: 1110, Output4: -; Input5: -, Output5: 1; Input6: 1110, Output6: -; Input7: -, Output7: 1; Input8: 1110, Output8: -; Input9: -, Output9: 1; Input10: 1110, Output10: -; Input11: 10, Output11: 1; Input12: 111001, Output12: -; Input13: 01011, Output13:', 'Input1: -, Output1: 1; Input2: 1110, Output2: -; Input3: -, Output3: 1; Input4: 1110, Output4: -; Input5: -, Output5: 1; Input6: 1110, Output6: -; Input7: -, Output7: 1; Input8: 1110, Output8: -; Input9: -, Output9: 1; Input10: 1110, Output10: -; Input11: 10, Output11: 1; Input12: 111001, Output12: -; Input13: 10, Output13: 1; Input14: 111001, Output14: -; Input15: 110, Output15:', 'Input1: -, Output1: 1; Input2: 1110, Output2: -; Input3: -, Output3: 1; Input4: 1110, Output4: -; Input5: -, Output5: 1; Input6: 1110, Output6: -; Input7: -, Output7: 1; Input8: 1110, Output8: -; Input9: -, Output9: 1; Input10: 1110, Output10: -; Input11: 10, Output11: 1; Input12: 111001, Output12: -; Input13: 10, Output13: 1; Input14: 111001, Output14: -; Input15: 10, Output15: 1; Input16: 111001, Output16: -; Input17: 0010, Output17:', 'Input1: -, Output1: 1; Input2: 1110, Output2: -; Input3: -, Output3: 1; Input4: 1110, Output4: -; Input5: -, Output5: 1; Input6: 1110, Output6: -; Input7: -, Output7: 1; Input8: 1110, Output8: -; Input9: -, Output9: 1; Input10: 1110, Output10: -; Input11: 10, Output11: 1; Input12: 111001, Output12: -; Input13: 10, Output13: 1; Input14: 111001, Output14: -; Input15: 10, Output15: 1; Input16: 111001, Output16: -; Input17: 10, Output17: 1; Input18: 111001, Output18: -; Input19: 101, Output19:', 'Input1: -, Output1: 1; Input2: 1110, Output2: -; Input3: -, Output3: 1; Input4: 1110, Output4: -; Input5: -, Output5: 1; Input6: 1110, Output6: -; Input7: -, Output7: 1; Input8: 1110, Output8: -; Input9: -, Output9: 1; Input10: 1110, Output10: -; Input11: 10, Output11: 1; Input12: 111001, Output12: -; Input13: 10, Output13: 1; Input14: 111001, Output14: -; Input15: 10, Output15: 1; Input16: 111001, Output16: -; Input17: 10, Output17: 1; Input18: 111001, Output18: -; Input19: 10, Output19: 1; Input20: 111001, Output20: -; Input21: 1000, Output21:'], ['Input1: -, Output1: 1; Input2: 1110, Output2: -; Input3: -, Output3: 1; Input4: 1110, Output4: -; Input5: -, Output5: 1; Input6: 1110, Output6: -; Input7: -, Output7: 1; Input8: 1110, Output8: -; Input9: -, Output9: 1; Input10: 1110, Output10: -; Input11: 10, Output11: 1; Input12: 111001, Output12: -; Input13: 10, Output13: 1; Input14: 111001, Output14: -; Input15: 10, Output15: 1; Input16: 111001, Output16: -; Input17: 10, Output17: 1; Input18: 111001, Output18: -; Input19: 10, Output19: 1; Input20: 111001, Output20: -; Input21: 11, Output21: 1; Input22: 0001, Output22: 0; Input23: 11100, Output23: -; Input24: 01011, Output24:', 'Input1: -, Output1: 1; Input2: 1110, Output2: -; Input3: -, Output3: 1; Input4: 1110, Output4: -; Input5: -, Output5: 1; Input6: 1110, Output6: -; Input7: -, Output7: 1; Input8: 1110, Output8: -; Input9: -, Output9: 1; Input10: 1110, Output10: -; Input11: 10, Output11: 1; Input12: 111001, Output12: -; Input13: 10, Output13: 1; Input14: 111001, Output14: -; Input15: 10, Output15: 1; Input16: 111001, Output16: -; Input17: 10, Output17: 1; Input18: 111001, Output18: -; Input19: 10, Output19: 1; Input20: 111001, Output20: -; Input21: 11, Output21: 1; Input22: 0001, Output22: 0; Input23: 11100, Output23: -; Input24: 11, Output24: 1; Input25: 0001, Output25: 0; Input26: 11100, Output26: -; Input27: 110, Output27:', 'Input1: -, Output1: 1; Input2: 1110, Output2: -; Input3: -, Output3: 1; Input4: 1110, Output4: -; Input5: -, Output5: 1; Input6: 1110, Output6: -; Input7: -, Output7: 1; Input8: 1110, Output8: -; Input9: -, Output9: 1; Input10: 1110, Output10: -; Input11: 10, Output11: 1; Input12: 111001, Output12: -; Input13: 10, Output13: 1; Input14: 111001, Output14: -; Input15: 10, Output15: 1; Input16: 111001, Output16: -; Input17: 10, Output17: 1; Input18: 111001, Output18: -; Input19: 10, Output19: 1; Input20: 111001, Output20: -; Input21: 11, Output21: 1; Input22: 0001, Output22: 0; Input23: 11100, Output23: -; Input24: 11, Output24: 1; Input25: 0001, Output25: 0; Input26: 11100, Output26: -; Input27: 11, Output27: 1; Input28: 0001, Output28: 0; Input29: 11100, Output29: -; Input30: 0010, Output30:', 'Input1: -, Output1: 1; Input2: 1110, Output2: -; Input3: -, Output3: 1; Input4: 1110, Output4: -; Input5: -, Output5: 1; Input6: 1110, Output6: -; Input7: -, Output7: 1; Input8: 1110, Output8: -; Input9: -, Output9: 1; Input10: 1110, Output10: -; Input11: 10, Output11: 1; Input12: 111001, Output12: -; Input13: 10, Output13: 1; Input14: 111001, Output14: -; Input15: 10, Output15: 1; Input16: 111001, Output16: -; Input17: 10, Output17: 1; Input18: 111001, Output18: -; Input19: 10, Output19: 1; Input20: 111001, Output20: -; Input21: 11, Output21: 1; Input22: 0001, Output22: 0; Input23: 11100, Output23: -; Input24: 11, Output24: 1; Input25: 0001, Output25: 0; Input26: 11100, Output26: -; Input27: 11, Output27: 1; Input28: 0001, Output28: 0; Input29: 11100, Output29: -; Input30: 11, Output30: 1; Input31: 0001, Output31: 0; Input32: 11100, Output32: -; Input33: 101, Output33:', 'Input1: -, Output1: 1; Input2: 1110, Output2: -; Input3: -, Output3: 1; Input4: 1110, Output4: -; Input5: -, Output5: 1; Input6: 1110, Output6: -; Input7: -, Output7: 1; Input8: 1110, Output8: -; Input9: -, Output9: 1; Input10: 1110, Output10: -; Input11: 10, Output11: 1; Input12: 111001, Output12: -; Input13: 10, Output13: 1; Input14: 111001, Output14: -; Input15: 10, Output15: 1; Input16: 111001, Output16: -; Input17: 10, Output17: 1; Input18: 111001, Output18: -; Input19: 10, Output19: 1; Input20: 111001, Output20: -; Input21: 11, Output21: 1; Input22: 0001, Output22: 0; Input23: 11100, Output23: -; Input24: 11, Output24: 1; Input25: 0001, Output25: 0; Input26: 11100, Output26: -; Input27: 11, Output27: 1; Input28: 0001, Output28: 0; Input29: 11100, Output29: -; Input30: 11, Output30: 1; Input31: 0001, Output31: 0; Input32: 11100, Output32: -; Input33: 11, Output33: 1; Input34: 0001, Output34: 0; Input35: 11100, Output35: -; Input36: 1000, Output36:']], [['Input1: 0, Output1: 10; Input2: 00, Output2: -; Input3: 01, Output3:', 'Input1: 0, Output1: 10; Input2: 00, Output2: -; Input3: 0, Output3: 10; Input4: 00, Output4: -; Input5: 0000, Output5:', 'Input1: 0, Output1: 10; Input2: 00, Output2: -; Input3: 0, Output3: 10; Input4: 00, Output4: -; Input5: 0, Output5: 10; Input6: 00, Output6: -; Input7: 00011, Output7:', 'Input1: 0, Output1: 10; Input2: 00, Output2: -; Input3: 0, Output3: 10; Input4: 00, Output4: -; Input5: 0, Output5: 10; Input6: 00, Output6: -; Input7: 0, Output7: 10; Input8: 00, Output8: -; Input9: 0011, Output9:', 'Input1: 0, Output1: 10; Input2: 00, Output2: -; Input3: 0, Output3: 10; Input4: 00, Output4: -; Input5: 0, Output5: 10; Input6: 00, Output6: -; Input7: 0, Output7: 10; Input8: 00, Output8: -; Input9: 0, Output9: 10; Input10: 00, Output10: -; Input11: 1000, Output11:'], ['Input1: 0, Output1: 10; Input2: 00, Output2: -; Input3: 0, Output3: 10; Input4: 00, Output4: -; Input5: 0, Output5: 10; Input6: 00, Output6: -; Input7: 0, Output7: 10; Input8: 00, Output8: -; Input9: 0, Output9: 10; Input10: 00, Output10: -; Input11: 11, Output11: 01; Input12: 10, Output12: -; Input13: 01, Output13:', 'Input1: 0, Output1: 10; Input2: 00, Output2: -; Input3: 0, Output3: 10; Input4: 00, Output4: -; Input5: 0, Output5: 10; Input6: 00, Output6: -; Input7: 0, Output7: 10; Input8: 00, Output8: -; Input9: 0, Output9: 10; Input10: 00, Output10: -; Input11: 11, Output11: 01; Input12: 10, Output12: -; Input13: 11, Output13: 01; Input14: 10, Output14: -; Input15: 0000, Output15:', 'Input1: 0, Output1: 10; Input2: 00, Output2: -; Input3: 0, Output3: 10; Input4: 00, Output4: -; Input5: 0, Output5: 10; Input6: 00, Output6: -; Input7: 0, Output7: 10; Input8: 00, Output8: -; Input9: 0, Output9: 10; Input10: 00, Output10: -; Input11: 11, Output11: 01; Input12: 10, Output12: -; Input13: 11, Output13: 01; Input14: 10, Output14: -; Input15: 11, Output15: 01; Input16: 10, Output16: -; Input17: 00011, Output17:', 'Input1: 0, Output1: 10; Input2: 00, Output2: -; Input3: 0, Output3: 10; Input4: 00, Output4: -; Input5: 0, Output5: 10; Input6: 00, Output6: -; Input7: 0, Output7: 10; Input8: 00, Output8: -; Input9: 0, Output9: 10; Input10: 00, Output10: -; Input11: 11, Output11: 01; Input12: 10, Output12: -; Input13: 11, Output13: 01; Input14: 10, Output14: -; Input15: 11, Output15: 01; Input16: 10, Output16: -; Input17: 11, Output17: 01; Input18: 10, Output18: -; Input19: 0011, Output19:', 'Input1: 0, Output1: 10; Input2: 00, Output2: -; Input3: 0, Output3: 10; Input4: 00, Output4: -; Input5: 0, Output5: 10; Input6: 00, Output6: -; Input7: 0, Output7: 10; Input8: 00, Output8: -; Input9: 0, Output9: 10; Input10: 00, Output10: -; Input11: 11, Output11: 01; Input12: 10, Output12: -; Input13: 11, Output13: 01; Input14: 10, Output14: -; Input15: 11, Output15: 01; Input16: 10, Output16: -; Input17: 11, Output17: 01; Input18: 10, Output18: -; Input19: 11, Output19: 01; Input20: 10, Output20: -; Input21: 1000, Output21:'], ['Input1: 0, Output1: 10; Input2: 00, Output2: -; Input3: 0, Output3: 10; Input4: 00, Output4: -; Input5: 0, Output5: 10; Input6: 00, Output6: -; Input7: 0, Output7: 10; Input8: 00, Output8: -; Input9: 0, Output9: 10; Input10: 00, Output10: -; Input11: 11, Output11: 01; Input12: 10, Output12: -; Input13: 11, Output13: 01; Input14: 10, Output14: -; Input15: 11, Output15: 01; Input16: 10, Output16: -; Input17: 11, Output17: 01; Input18: 10, Output18: -; Input19: 11, Output19: 01; Input20: 10, Output20: -; Input21: -, Output21: 1; Input22: 101, Output22: -; Input23: 000, Output23: -; Input24: 01, Output24:', 'Input1: 0, Output1: 10; Input2: 00, Output2: -; Input3: 0, Output3: 10; Input4: 00, Output4: -; Input5: 0, Output5: 10; Input6: 00, Output6: -; Input7: 0, Output7: 10; Input8: 00, Output8: -; Input9: 0, Output9: 10; Input10: 00, Output10: -; Input11: 11, Output11: 01; Input12: 10, Output12: -; Input13: 11, Output13: 01; Input14: 10, Output14: -; Input15: 11, Output15: 01; Input16: 10, Output16: -; Input17: 11, Output17: 01; Input18: 10, Output18: -; Input19: 11, Output19: 01; Input20: 10, Output20: -; Input21: -, Output21: 1; Input22: 101, Output22: -; Input23: 000, Output23: -; Input24: -, Output24: 1; Input25: 101, Output25: -; Input26: 000, Output26: -; Input27: 0000, Output27:', 'Input1: 0, Output1: 10; Input2: 00, Output2: -; Input3: 0, Output3: 10; Input4: 00, Output4: -; Input5: 0, Output5: 10; Input6: 00, Output6: -; Input7: 0, Output7: 10; Input8: 00, Output8: -; Input9: 0, Output9: 10; Input10: 00, Output10: -; Input11: 11, Output11: 01; Input12: 10, Output12: -; Input13: 11, Output13: 01; Input14: 10, Output14: -; Input15: 11, Output15: 01; Input16: 10, Output16: -; Input17: 11, Output17: 01; Input18: 10, Output18: -; Input19: 11, Output19: 01; Input20: 10, Output20: -; Input21: -, Output21: 1; Input22: 101, Output22: -; Input23: 000, Output23: -; Input24: -, Output24: 1; Input25: 101, Output25: -; Input26: 000, Output26: -; Input27: -, Output27: 1; Input28: 101, Output28: -; Input29: 000, Output29: -; Input30: 00011, Output30:', 'Input1: 0, Output1: 10; Input2: 00, Output2: -; Input3: 0, Output3: 10; Input4: 00, Output4: -; Input5: 0, Output5: 10; Input6: 00, Output6: -; Input7: 0, Output7: 10; Input8: 00, Output8: -; Input9: 0, Output9: 10; Input10: 00, Output10: -; Input11: 11, Output11: 01; Input12: 10, Output12: -; Input13: 11, Output13: 01; Input14: 10, Output14: -; Input15: 11, Output15: 01; Input16: 10, Output16: -; Input17: 11, Output17: 01; Input18: 10, Output18: -; Input19: 11, Output19: 01; Input20: 10, Output20: -; Input21: -, Output21: 1; Input22: 101, Output22: -; Input23: 000, Output23: -; Input24: -, Output24: 1; Input25: 101, Output25: -; Input26: 000, Output26: -; Input27: -, Output27: 1; Input28: 101, Output28: -; Input29: 000, Output29: -; Input30: -, Output30: 1; Input31: 101, Output31: -; Input32: 000, Output32: -; Input33: 0011, Output33:', 'Input1: 0, Output1: 10; Input2: 00, Output2: -; Input3: 0, Output3: 10; Input4: 00, Output4: -; Input5: 0, Output5: 10; Input6: 00, Output6: -; Input7: 0, Output7: 10; Input8: 00, Output8: -; Input9: 0, Output9: 10; Input10: 00, Output10: -; Input11: 11, Output11: 01; Input12: 10, Output12: -; Input13: 11, Output13: 01; Input14: 10, Output14: -; Input15: 11, Output15: 01; Input16: 10, Output16: -; Input17: 11, Output17: 01; Input18: 10, Output18: -; Input19: 11, Output19: 01; Input20: 10, Output20: -; Input21: -, Output21: 1; Input22: 101, Output22: -; Input23: 000, Output23: -; Input24: -, Output24: 1; Input25: 101, Output25: -; Input26: 000, Output26: -; Input27: -, Output27: 1; Input28: 101, Output28: -; Input29: 000, Output29: -; Input30: -, Output30: 1; Input31: 101, Output31: -; Input32: 000, Output32: -; Input33: -, Output33: 1; Input34: 101, Output34: -; Input35: 000, Output35: -; Input36: 1000, Output36:']], [['Input1: -, Output1: 0; Input2: 0, Output2: -; Input3: 00, Output3: 0; Input4: 01011, Output4:', 'Input1: -, Output1: 0; Input2: 0, Output2: -; Input3: 00, Output3: 0; Input4: -, Output4: 0; Input5: 0, Output5: -; Input6: 00, Output6: 0; Input7: 0000, Output7:', 'Input1: -, Output1: 0; Input2: 0, Output2: -; Input3: 00, Output3: 0; Input4: -, Output4: 0; Input5: 0, Output5: -; Input6: 00, Output6: 0; Input7: -, Output7: 0; Input8: 0, Output8: -; Input9: 00, Output9: 0; Input10: 00000, Output10:', 'Input1: -, Output1: 0; Input2: 0, Output2: -; Input3: 00, Output3: 0; Input4: -, Output4: 0; Input5: 0, Output5: -; Input6: 00, Output6: 0; Input7: -, Output7: 0; Input8: 0, Output8: -; Input9: 00, Output9: 0; Input10: -, Output10: 0; Input11: 0, Output11: -; Input12: 00, Output12: 0; Input13: 100, Output13:', 'Input1: -, Output1: 0; Input2: 0, Output2: -; Input3: 00, Output3: 0; Input4: -, Output4: 0; Input5: 0, Output5: -; Input6: 00, Output6: 0; Input7: -, Output7: 0; Input8: 0, Output8: -; Input9: 00, Output9: 0; Input10: -, Output10: 0; Input11: 0, Output11: -; Input12: 00, Output12: 0; Input13: -, Output13: 0; Input14: 0, Output14: -; Input15: 00, Output15: 0; Input16: 1000, Output16:'], ['Input1: -, Output1: 0; Input2: 0, Output2: -; Input3: 00, Output3: 0; Input4: -, Output4: 0; Input5: 0, Output5: -; Input6: 00, Output6: 0; Input7: -, Output7: 0; Input8: 0, Output8: -; Input9: 00, Output9: 0; Input10: -, Output10: 0; Input11: 0, Output11: -; Input12: 00, Output12: 0; Input13: -, Output13: 0; Input14: 0, Output14: -; Input15: 00, Output15: 0; Input16: 0001, Output16: 0; Input17: 01, Output17: 1; Input18: 01011, Output18:', 'Input1: -, Output1: 0; Input2: 0, Output2: -; Input3: 00, Output3: 0; Input4: -, Output4: 0; Input5: 0, Output5: -; Input6: 00, Output6: 0; Input7: -, Output7: 0; Input8: 0, Output8: -; Input9: 00, Output9: 0; Input10: -, Output10: 0; Input11: 0, Output11: -; Input12: 00, Output12: 0; Input13: -, Output13: 0; Input14: 0, Output14: -; Input15: 00, Output15: 0; Input16: 0001, Output16: 0; Input17: 01, Output17: 1; Input18: 0001, Output18: 0; Input19: 01, Output19: 1; Input20: 0000, Output20:', 'Input1: -, Output1: 0; Input2: 0, Output2: -; Input3: 00, Output3: 0; Input4: -, Output4: 0; Input5: 0, Output5: -; Input6: 00, Output6: 0; Input7: -, Output7: 0; Input8: 0, Output8: -; Input9: 00, Output9: 0; Input10: -, Output10: 0; Input11: 0, Output11: -; Input12: 00, Output12: 0; Input13: -, Output13: 0; Input14: 0, Output14: -; Input15: 00, Output15: 0; Input16: 0001, Output16: 0; Input17: 01, Output17: 1; Input18: 0001, Output18: 0; Input19: 01, Output19: 1; Input20: 0001, Output20: 0; Input21: 01, Output21: 1; Input22: 00000, Output22:', 'Input1: -, Output1: 0; Input2: 0, Output2: -; Input3: 00, Output3: 0; Input4: -, Output4: 0; Input5: 0, Output5: -; Input6: 00, Output6: 0; Input7: -, Output7: 0; Input8: 0, Output8: -; Input9: 00, Output9: 0; Input10: -, Output10: 0; Input11: 0, Output11: -; Input12: 00, Output12: 0; Input13: -, Output13: 0; Input14: 0, Output14: -; Input15: 00, Output15: 0; Input16: 0001, Output16: 0; Input17: 01, Output17: 1; Input18: 0001, Output18: 0; Input19: 01, Output19: 1; Input20: 0001, Output20: 0; Input21: 01, Output21: 1; Input22: 0001, Output22: 0; Input23: 01, Output23: 1; Input24: 100, Output24:', 'Input1: -, Output1: 0; Input2: 0, Output2: -; Input3: 00, Output3: 0; Input4: -, Output4: 0; Input5: 0, Output5: -; Input6: 00, Output6: 0; Input7: -, Output7: 0; Input8: 0, Output8: -; Input9: 00, Output9: 0; Input10: -, Output10: 0; Input11: 0, Output11: -; Input12: 00, Output12: 0; Input13: -, Output13: 0; Input14: 0, Output14: -; Input15: 00, Output15: 0; Input16: 0001, Output16: 0; Input17: 01, Output17: 1; Input18: 0001, Output18: 0; Input19: 01, Output19: 1; Input20: 0001, Output20: 0; Input21: 01, Output21: 1; Input22: 0001, Output22: 0; Input23: 01, Output23: 1; Input24: 0001, Output24: 0; Input25: 01, Output25: 1; Input26: 1000, Output26:'], ['Input1: -, Output1: 0; Input2: 0, Output2: -; Input3: 00, Output3: 0; Input4: -, Output4: 0; Input5: 0, Output5: -; Input6: 00, Output6: 0; Input7: -, Output7: 0; Input8: 0, Output8: -; Input9: 00, Output9: 0; Input10: -, Output10: 0; Input11: 0, Output11: -; Input12: 00, Output12: 0; Input13: -, Output13: 0; Input14: 0, Output14: -; Input15: 00, Output15: 0; Input16: 0001, Output16: 0; Input17: 01, Output17: 1; Input18: 0001, Output18: 0; Input19: 01, Output19: 1; Input20: 0001, Output20: 0; Input21: 01, Output21: 1; Input22: 0001, Output22: 0; Input23: 01, Output23: 1; Input24: 0001, Output24: 0; Input25: 01, Output25: 1; Input26: 0101, Output26: 1; Input27: 0010, Output27: 0; Input28: 0110, Output28: 1; Input29: 01011, Output29:', 'Input1: -, Output1: 0; Input2: 0, Output2: -; Input3: 00, Output3: 0; Input4: -, Output4: 0; Input5: 0, Output5: -; Input6: 00, Output6: 0; Input7: -, Output7: 0; Input8: 0, Output8: -; Input9: 00, Output9: 0; Input10: -, Output10: 0; Input11: 0, Output11: -; Input12: 00, Output12: 0; Input13: -, Output13: 0; Input14: 0, Output14: -; Input15: 00, Output15: 0; Input16: 0001, Output16: 0; Input17: 01, Output17: 1; Input18: 0001, Output18: 0; Input19: 01, Output19: 1; Input20: 0001, Output20: 0; Input21: 01, Output21: 1; Input22: 0001, Output22: 0; Input23: 01, Output23: 1; Input24: 0001, Output24: 0; Input25: 01, Output25: 1; Input26: 0101, Output26: 1; Input27: 0010, Output27: 0; Input28: 0110, Output28: 1; Input29: 0101, Output29: 1; Input30: 0010, Output30: 0; Input31: 0110, Output31: 1; Input32: 0000, Output32:', 'Input1: -, Output1: 0; Input2: 0, Output2: -; Input3: 00, Output3: 0; Input4: -, Output4: 0; Input5: 0, Output5: -; Input6: 00, Output6: 0; Input7: -, Output7: 0; Input8: 0, Output8: -; Input9: 00, Output9: 0; Input10: -, Output10: 0; Input11: 0, Output11: -; Input12: 00, Output12: 0; Input13: -, Output13: 0; Input14: 0, Output14: -; Input15: 00, Output15: 0; Input16: 0001, Output16: 0; Input17: 01, Output17: 1; Input18: 0001, Output18: 0; Input19: 01, Output19: 1; Input20: 0001, Output20: 0; Input21: 01, Output21: 1; Input22: 0001, Output22: 0; Input23: 01, Output23: 1; Input24: 0001, Output24: 0; Input25: 01, Output25: 1; Input26: 0101, Output26: 1; Input27: 0010, Output27: 0; Input28: 0110, Output28: 1; Input29: 0101, Output29: 1; Input30: 0010, Output30: 0; Input31: 0110, Output31: 1; Input32: 0101, Output32: 1; Input33: 0010, Output33: 0; Input34: 0110, Output34: 1; Input35: 00000, Output35:', 'Input1: -, Output1: 0; Input2: 0, Output2: -; Input3: 00, Output3: 0; Input4: -, Output4: 0; Input5: 0, Output5: -; Input6: 00, Output6: 0; Input7: -, Output7: 0; Input8: 0, Output8: -; Input9: 00, Output9: 0; Input10: -, Output10: 0; Input11: 0, Output11: -; Input12: 00, Output12: 0; Input13: -, Output13: 0; Input14: 0, Output14: -; Input15: 00, Output15: 0; Input16: 0001, Output16: 0; Input17: 01, Output17: 1; Input18: 0001, Output18: 0; Input19: 01, Output19: 1; Input20: 0001, Output20: 0; Input21: 01, Output21: 1; Input22: 0001, Output22: 0; Input23: 01, Output23: 1; Input24: 0001, Output24: 0; Input25: 01, Output25: 1; Input26: 0101, Output26: 1; Input27: 0010, Output27: 0; Input28: 0110, Output28: 1; Input29: 0101, Output29: 1; Input30: 0010, Output30: 0; Input31: 0110, Output31: 1; Input32: 0101, Output32: 1; Input33: 0010, Output33: 0; Input34: 0110, Output34: 1; Input35: 0101, Output35: 1; Input36: 0010, Output36: 0; Input37: 0110, Output37: 1; Input38: 100, Output38:', 'Input1: -, Output1: 0; Input2: 0, Output2: -; Input3: 00, Output3: 0; Input4: -, Output4: 0; Input5: 0, Output5: -; Input6: 00, Output6: 0; Input7: -, Output7: 0; Input8: 0, Output8: -; Input9: 00, Output9: 0; Input10: -, Output10: 0; Input11: 0, Output11: -; Input12: 00, Output12: 0; Input13: -, Output13: 0; Input14: 0, Output14: -; Input15: 00, Output15: 0; Input16: 0001, Output16: 0; Input17: 01, Output17: 1; Input18: 0001, Output18: 0; Input19: 01, Output19: 1; Input20: 0001, Output20: 0; Input21: 01, Output21: 1; Input22: 0001, Output22: 0; Input23: 01, Output23: 1; Input24: 0001, Output24: 0; Input25: 01, Output25: 1; Input26: 0101, Output26: 1; Input27: 0010, Output27: 0; Input28: 0110, Output28: 1; Input29: 0101, Output29: 1; Input30: 0010, Output30: 0; Input31: 0110, Output31: 1; Input32: 0101, Output32: 1; Input33: 0010, Output33: 0; Input34: 0110, Output34: 1; Input35: 0101, Output35: 1; Input36: 0010, Output36: 0; Input37: 0110, Output37: 1; Input38: 0101, Output38: 1; Input39: 0010, Output39: 0; Input40: 0110, Output40: 1; Input41: 1000, Output41:']], [['Input1: -, Output1: 01; Input2: 01, Output2: -; Input3: 1, Output3: -; Input4: 10101, Output4:', 'Input1: -, Output1: 01; Input2: 01, Output2: -; Input3: 1, Output3: -; Input4: -, Output4: 01; Input5: 01, Output5: -; Input6: 1, Output6: -; Input7: 11101, Output7:', 'Input1: -, Output1: 01; Input2: 01, Output2: -; Input3: 1, Output3: -; Input4: -, Output4: 01; Input5: 01, Output5: -; Input6: 1, Output6: -; Input7: -, Output7: 01; Input8: 01, Output8: -; Input9: 1, Output9: -; Input10: 00000, Output10:', 'Input1: -, Output1: 01; Input2: 01, Output2: -; Input3: 1, Output3: -; Input4: -, Output4: 01; Input5: 01, Output5: -; Input6: 1, Output6: -; Input7: -, Output7: 01; Input8: 01, Output8: -; Input9: 1, Output9: -; Input10: -, Output10: 01; Input11: 01, Output11: -; Input12: 1, Output12: -; Input13: 0011, Output13:', 'Input1: -, Output1: 01; Input2: 01, Output2: -; Input3: 1, Output3: -; Input4: -, Output4: 01; Input5: 01, Output5: -; Input6: 1, Output6: -; Input7: -, Output7: 01; Input8: 01, Output8: -; Input9: 1, Output9: -; Input10: -, Output10: 01; Input11: 01, Output11: -; Input12: 1, Output12: -; Input13: -, Output13: 01; Input14: 01, Output14: -; Input15: 1, Output15: -; Input16: 1111, Output16:'], ['Input1: -, Output1: 01; Input2: 01, Output2: -; Input3: 1, Output3: -; Input4: -, Output4: 01; Input5: 01, Output5: -; Input6: 1, Output6: -; Input7: -, Output7: 01; Input8: 01, Output8: -; Input9: 1, Output9: -; Input10: -, Output10: 01; Input11: 01, Output11: -; Input12: 1, Output12: -; Input13: -, Output13: 01; Input14: 01, Output14: -; Input15: 1, Output15: -; Input16: 11, Output16: -; Input17: 011, Output17: -; Input18: 10101, Output18:', 'Input1: -, Output1: 01; Input2: 01, Output2: -; Input3: 1, Output3: -; Input4: -, Output4: 01; Input5: 01, Output5: -; Input6: 1, Output6: -; Input7: -, Output7: 01; Input8: 01, Output8: -; Input9: 1, Output9: -; Input10: -, Output10: 01; Input11: 01, Output11: -; Input12: 1, Output12: -; Input13: -, Output13: 01; Input14: 01, Output14: -; Input15: 1, Output15: -; Input16: 11, Output16: -; Input17: 011, Output17: -; Input18: 11, Output18: -; Input19: 011, Output19: -; Input20: 11101, Output20:', 'Input1: -, Output1: 01; Input2: 01, Output2: -; Input3: 1, Output3: -; Input4: -, Output4: 01; Input5: 01, Output5: -; Input6: 1, Output6: -; Input7: -, Output7: 01; Input8: 01, Output8: -; Input9: 1, Output9: -; Input10: -, Output10: 01; Input11: 01, Output11: -; Input12: 1, Output12: -; Input13: -, Output13: 01; Input14: 01, Output14: -; Input15: 1, Output15: -; Input16: 11, Output16: -; Input17: 011, Output17: -; Input18: 11, Output18: -; Input19: 011, Output19: -; Input20: 11, Output20: -; Input21: 011, Output21: -; Input22: 00000, Output22:', 'Input1: -, Output1: 01; Input2: 01, Output2: -; Input3: 1, Output3: -; Input4: -, Output4: 01; Input5: 01, Output5: -; Input6: 1, Output6: -; Input7: -, Output7: 01; Input8: 01, Output8: -; Input9: 1, Output9: -; Input10: -, Output10: 01; Input11: 01, Output11: -; Input12: 1, Output12: -; Input13: -, Output13: 01; Input14: 01, Output14: -; Input15: 1, Output15: -; Input16: 11, Output16: -; Input17: 011, Output17: -; Input18: 11, Output18: -; Input19: 011, Output19: -; Input20: 11, Output20: -; Input21: 011, Output21: -; Input22: 11, Output22: -; Input23: 011, Output23: -; Input24: 0011, Output24:', 'Input1: -, Output1: 01; Input2: 01, Output2: -; Input3: 1, Output3: -; Input4: -, Output4: 01; Input5: 01, Output5: -; Input6: 1, Output6: -; Input7: -, Output7: 01; Input8: 01, Output8: -; Input9: 1, Output9: -; Input10: -, Output10: 01; Input11: 01, Output11: -; Input12: 1, Output12: -; Input13: -, Output13: 01; Input14: 01, Output14: -; Input15: 1, Output15: -; Input16: 11, Output16: -; Input17: 011, Output17: -; Input18: 11, Output18: -; Input19: 011, Output19: -; Input20: 11, Output20: -; Input21: 011, Output21: -; Input22: 11, Output22: -; Input23: 011, Output23: -; Input24: 11, Output24: -; Input25: 011, Output25: -; Input26: 1111, Output26:'], ['Input1: -, Output1: 01; Input2: 01, Output2: -; Input3: 1, Output3: -; Input4: -, Output4: 01; Input5: 01, Output5: -; Input6: 1, Output6: -; Input7: -, Output7: 01; Input8: 01, Output8: -; Input9: 1, Output9: -; Input10: -, Output10: 01; Input11: 01, Output11: -; Input12: 1, Output12: -; Input13: -, Output13: 01; Input14: 01, Output14: -; Input15: 1, Output15: -; Input16: 11, Output16: -; Input17: 011, Output17: -; Input18: 11, Output18: -; Input19: 011, Output19: -; Input20: 11, Output20: -; Input21: 011, Output21: -; Input22: 11, Output22: -; Input23: 011, Output23: -; Input24: 11, Output24: -; Input25: 011, Output25: -; Input26: 10, Output26: -; Input27: 0100, Output27: -; Input28: 0, Output28: 0; Input29: 10101, Output29:', 'Input1: -, Output1: 01; Input2: 01, Output2: -; Input3: 1, Output3: -; Input4: -, Output4: 01; Input5: 01, Output5: -; Input6: 1, Output6: -; Input7: -, Output7: 01; Input8: 01, Output8: -; Input9: 1, Output9: -; Input10: -, Output10: 01; Input11: 01, Output11: -; Input12: 1, Output12: -; Input13: -, Output13: 01; Input14: 01, Output14: -; Input15: 1, Output15: -; Input16: 11, Output16: -; Input17: 011, Output17: -; Input18: 11, Output18: -; Input19: 011, Output19: -; Input20: 11, Output20: -; Input21: 011, Output21: -; Input22: 11, Output22: -; Input23: 011, Output23: -; Input24: 11, Output24: -; Input25: 011, Output25: -; Input26: 10, Output26: -; Input27: 0100, Output27: -; Input28: 0, Output28: 0; Input29: 10, Output29: -; Input30: 0100, Output30: -; Input31: 0, Output31: 0; Input32: 11101, Output32:', 'Input1: -, Output1: 01; Input2: 01, Output2: -; Input3: 1, Output3: -; Input4: -, Output4: 01; Input5: 01, Output5: -; Input6: 1, Output6: -; Input7: -, Output7: 01; Input8: 01, Output8: -; Input9: 1, Output9: -; Input10: -, Output10: 01; Input11: 01, Output11: -; Input12: 1, Output12: -; Input13: -, Output13: 01; Input14: 01, Output14: -; Input15: 1, Output15: -; Input16: 11, Output16: -; Input17: 011, Output17: -; Input18: 11, Output18: -; Input19: 011, Output19: -; Input20: 11, Output20: -; Input21: 011, Output21: -; Input22: 11, Output22: -; Input23: 011, Output23: -; Input24: 11, Output24: -; Input25: 011, Output25: -; Input26: 10, Output26: -; Input27: 0100, Output27: -; Input28: 0, Output28: 0; Input29: 10, Output29: -; Input30: 0100, Output30: -; Input31: 0, Output31: 0; Input32: 10, Output32: -; Input33: 0100, Output33: -; Input34: 0, Output34: 0; Input35: 00000, Output35:', 'Input1: -, Output1: 01; Input2: 01, Output2: -; Input3: 1, Output3: -; Input4: -, Output4: 01; Input5: 01, Output5: -; Input6: 1, Output6: -; Input7: -, Output7: 01; Input8: 01, Output8: -; Input9: 1, Output9: -; Input10: -, Output10: 01; Input11: 01, Output11: -; Input12: 1, Output12: -; Input13: -, Output13: 01; Input14: 01, Output14: -; Input15: 1, Output15: -; Input16: 11, Output16: -; Input17: 011, Output17: -; Input18: 11, Output18: -; Input19: 011, Output19: -; Input20: 11, Output20: -; Input21: 011, Output21: -; Input22: 11, Output22: -; Input23: 011, Output23: -; Input24: 11, Output24: -; Input25: 011, Output25: -; Input26: 10, Output26: -; Input27: 0100, Output27: -; Input28: 0, Output28: 0; Input29: 10, Output29: -; Input30: 0100, Output30: -; Input31: 0, Output31: 0; Input32: 10, Output32: -; Input33: 0100, Output33: -; Input34: 0, Output34: 0; Input35: 10, Output35: -; Input36: 0100, Output36: -; Input37: 0, Output37: 0; Input38: 0011, Output38:', 'Input1: -, Output1: 01; Input2: 01, Output2: -; Input3: 1, Output3: -; Input4: -, Output4: 01; Input5: 01, Output5: -; Input6: 1, Output6: -; Input7: -, Output7: 01; Input8: 01, Output8: -; Input9: 1, Output9: -; Input10: -, Output10: 01; Input11: 01, Output11: -; Input12: 1, Output12: -; Input13: -, Output13: 01; Input14: 01, Output14: -; Input15: 1, Output15: -; Input16: 11, Output16: -; Input17: 011, Output17: -; Input18: 11, Output18: -; Input19: 011, Output19: -; Input20: 11, Output20: -; Input21: 011, Output21: -; Input22: 11, Output22: -; Input23: 011, Output23: -; Input24: 11, Output24: -; Input25: 011, Output25: -; Input26: 10, Output26: -; Input27: 0100, Output27: -; Input28: 0, Output28: 0; Input29: 10, Output29: -; Input30: 0100, Output30: -; Input31: 0, Output31: 0; Input32: 10, Output32: -; Input33: 0100, Output33: -; Input34: 0, Output34: 0; Input35: 10, Output35: -; Input36: 0100, Output36: -; Input37: 0, Output37: 0; Input38: 10, Output38: -; Input39: 0100, Output39: -; Input40: 0, Output40: 0; Input41: 1111, Output41:']]]\n"
     ]
    }
   ],
   "source": [
    "#These lines will create the GPT2 inputs (or queries) in the desired form\n",
    "\n",
    "numConcepts = 8\n",
    "numBatches = 3\n",
    "numTests = 5\n",
    "\n",
    "queries = [[]]*numConcepts\n",
    "witnessSets = [[('0', '0')],[('10', '0')],[('', '0'), ('01', '')],[('0', '011')],[('', '1'), ('1110', '')],[('0', '10'), ('00', '')],[('', '0'), ('0', ''), ('00', '0')],[('', '01'), ('01', ''), ('1', '')]]\n",
    "additionalSets1 = [[('111001', '1'), ('110101', '1')],[('01000', '1'), ('01010', '1')],[('010100', ''), ('10101', '1')],[('10', '1'), ('001', '011')],[('10', '1'), ('111001', '')],[('11', '01'), ('10', '')],[('0001', '0'), ('01', '1')],[('11', ''), ('011', '')]]\n",
    "additionalSets2 = [[('100110', '1'), ('111100', '1'), ('01010', '0')],[('001', '0'), ('00', '0'), ('1011', '0')],[('010', ''), ('100', '1'), ('011101', '')],[('0001', '011'), ('00', '011'), ('000', '011')],[('11', '1'), ('0001', '0'), ('11100', '')],[('', '1'), ('101', ''), ('000', '')],[('0101', '1'), ('0010', '0'), ('0110', '1')],[('10', ''), ('0100', ''), ('0', '0')]]\n",
    "testSets = [[('00000', '0'), ('11100', '1'), ('00111', '0'), ('11010', '1'), ('0010', '0')], [('01011', '1'), ('0101', '1'), ('0010', '0'), ('100', '0'), ('1', '-')], [('00010', '1') , ('110', '-'), ('00111', '1'), ('11000', '-'), ('101', '1')], [('01011', '011'), ('0101', '011'), ('0010', '011'), ('100', '1'), ('1', '1')], [('01011', '0'), ('110', '1'), ('0010', '-'), ('101', '1'), ('1000', '-')], [('01', '00'), ('0000', '-'), ('00011', '-'), ('0011', '-'), ('1000', '-')], [('01011', '1'), ('0000', '0'), ('00000', '0'), ('100', '-'), ('1000', '-')], [('10101', '-'), ('11101', '-'), ('00000', '1'), ('0011', '1'), ('1111', '-')]]\n",
    "\n",
    "#There will be a total of 8*3*5=120  different queries for GPT2 (8 concepts * 3 learning phases * 5 test examples to complete)\n",
    "\n",
    "#A list with 120 positions (queries) is created. The followed procedure is to store the query for the witness set \n",
    "#of the first concept and the first test example in the first position, for the second test example in the second position...\n",
    "\n",
    "#The query for the WS + first redundant examples of the first concept and the first test example will be stored\n",
    "#in the 6th position...\n",
    "\n",
    "#The query for the WS of the second concept and the first test example will be stored \n",
    "#in the 16th position...\n",
    "\n",
    "def createQueries():\n",
    "  for c in range(0, numConcepts):\n",
    "    queries[c] = [[]]*numBatches\n",
    "    #Variable to count the number of examples in a query\n",
    "    num = 1\n",
    "    #Variable to store the query examples before adding the test examples\n",
    "    base = ''\n",
    "    for b in range(0, numBatches):\n",
    "      queries[c][b] = [\"\"]*numTests\n",
    "      for t in range(0, numTests):\n",
    "        if b == 0:\n",
    "          for w in range(0, len(witnessSets[c])):\n",
    "            if witnessSets[c][w][0] == \"\":\n",
    "              input1 = \"-\"\n",
    "            else:\n",
    "              input1 = witnessSets[c][w][0]\n",
    "\n",
    "            if witnessSets[c][w][1] == \"\":\n",
    "              output1 = \"-\"\n",
    "            else:\n",
    "              output1 = witnessSets[c][w][1]\n",
    "            base = base + \"Input\" + str(num) + \": \" + input1 + \", Output\" + str(num) + \": \" + output1 + \"; \"\n",
    "            num = num + 1\n",
    "          queries[c][b][t] = base + \"Input\" + str(num) + \": \" + testSets[c][t][0] + \", Output\" + str(num) + \":\"\n",
    "        \n",
    "        elif b == 1:\n",
    "          for a1 in range(0, len(additionalSets1[c])):\n",
    "            if additionalSets1[c][a1][0] == \"\":\n",
    "              input1 = \"-\"\n",
    "            else:\n",
    "              input1 = additionalSets1[c][a1][0]\n",
    "\n",
    "            if additionalSets1[c][a1][1] == \"\":\n",
    "              output1 = \"-\"\n",
    "            else:\n",
    "              output1 = additionalSets1[c][a1][1]\n",
    "            base = base + \"Input\" + str(num) + \": \" + input1 + \", Output\" + str(num) + \": \" + output1 + \"; \"\n",
    "            num = num + 1\n",
    "          queries[c][b][t] = base + \"Input\" + str(num) + \": \" + testSets[c][t][0] + \", Output\" + str(num) + \":\"\n",
    "        \n",
    "        elif b == 2:\n",
    "          for a2 in range(0, len(additionalSets2[c])):\n",
    "            if additionalSets2[c][a2][0] == \"\":\n",
    "              input1 = \"-\"\n",
    "            else:\n",
    "              input1 = additionalSets2[c][a2][0]\n",
    "\n",
    "            if additionalSets2[c][a2][1] == \"\":\n",
    "              output1 = \"-\"\n",
    "            else:\n",
    "              output1 = additionalSets2[c][a2][1]\n",
    "            base = base + \"Input\" + str(num) + \": \" + input1 + \", Output\" + str(num) + \": \" + output1 + \"; \"\n",
    "            num = num + 1\n",
    "          queries[c][b][t] = base + \"Input\" + str(num) + \": \" + testSets[c][t][0] + \", Output\" + str(num) + \":\"\n",
    "\n",
    "\n",
    "createQueries()\n",
    "print(queries)"
   ]
  },
  {
   "cell_type": "markdown",
   "metadata": {
    "id": "pSJz39P7kw5Y"
   },
   "source": [
    "# 3. Run experiment"
   ]
  },
  {
   "cell_type": "code",
   "execution_count": null,
   "metadata": {
    "id": "afxgZk-1L0Rz"
   },
   "outputs": [],
   "source": [
    "#The total outputs required are equal to 8 * 3 * 5 * 40 (concepts number * learning phases number * test examples number * number of same-query executions \n",
    "#or repetitions) = 4800. The execution time took more than 4 hours, so it was preferable to persist the results in a file rather than a list in the \n",
    "#python environment.  \n",
    "\n",
    "from google.colab import drive\n",
    "drive.mount('/content/drive')"
   ]
  },
  {
   "cell_type": "code",
   "execution_count": null,
   "metadata": {
    "id": "oC6jahJMHkkY"
   },
   "outputs": [],
   "source": [
    "#Run GPT-2\n",
    " \n",
    "numReps = 40\n",
    " \n",
    "from src import nointeractive as ni\n",
    " \n",
    "filePath = '/content/drive/My Drive/GPT2results.txt'\n",
    " \n",
    "ni.rungpt2(queries, numReps, filePath, numConcepts, numBatches, numTests)"
   ]
  },
  {
   "cell_type": "markdown",
   "metadata": {
    "id": "byXPqSsRlWZL"
   },
   "source": [
    "# 4. Evaluation\n",
    "\n",
    "Index of results variables:\n",
    "\n",
    "- \"accuracies_ens\" and \"binary_ens\" -> gpt-2-ens\n",
    "- \"accuracies_ens_emp\" and \"binary_ens_emp\" -> gpt-2-ens without test examples with empty string as output\n",
    "- \"accuracies_exp\" and \"binary_exp\" -> gpt-2-ens\n",
    "- \"accuracies_exp_emp\" and \"binary_exp_emp\" -> gpt-2-exp without test examples with empty string as output\n",
    "\n"
   ]
  },
  {
   "cell_type": "code",
   "execution_count": 5,
   "metadata": {},
   "outputs": [],
   "source": [
    "#Common variables\n",
    "\n",
    "numConcepts = 8\n",
    "numBatches = 3\n",
    "numTests = 5\n",
    "numReps = 40\n",
    "\n",
    "seed = 23"
   ]
  },
  {
   "cell_type": "markdown",
   "metadata": {
    "id": "SG-3kMxe9pT7"
   },
   "source": [
    "## 4.1 Data cleaning and variables preparation"
   ]
  },
  {
   "cell_type": "code",
   "execution_count": null,
   "metadata": {
    "id": "KLB0P253Hl_1"
   },
   "outputs": [],
   "source": [
    "#Upload results file generated with the previous code snippet\n",
    "\n",
    "#The file with the results is already included in the zip downloaded from the Drive folder, so we can avoid\n",
    "#the long execution everytime we want to postprocess the results\n",
    "\n",
    "#Uncomment the following lines in case of running the full experiment and wanting to upload the results file generated\n",
    "\n",
    "#from google.colab import files\n",
    "#uploaded = files.upload()"
   ]
  },
  {
   "cell_type": "code",
   "execution_count": 1,
   "metadata": {
    "colab": {
     "base_uri": "https://localhost:8080/"
    },
    "executionInfo": {
     "elapsed": 279,
     "status": "ok",
     "timestamp": 1623692838984,
     "user": {
      "displayName": "Anonymous Submission Upload",
      "photoUrl": "",
      "userId": "02777180849015365363"
     },
     "user_tz": -120
    },
    "id": "K58aQLPxIE7y",
    "outputId": "f012c08f-ecb5-4f54-82f2-1100eb2412ee"
   },
   "outputs": [
    {
     "name": "stdout",
     "output_type": "stream",
     "text": [
      "[WinError 2] The system cannot find the file specified: 'gpt-2'\n",
      "C:\\Users\\jaimovitchg\\Desktop\\code\\GPT-2 Experiments\n"
     ]
    }
   ],
   "source": [
    "#Create a variable with the results\n",
    "\n",
    "%cd gpt-2\n",
    "resdata = open(\"GPT2results.txt\",encoding=\"UTF-8\").read().split(\"\\n\")"
   ]
  },
  {
   "cell_type": "code",
   "execution_count": 2,
   "metadata": {
    "id": "8sFXh5DWIKMb"
   },
   "outputs": [],
   "source": [
    "#Data cleaning\n",
    "resdata = [x for x in resdata if x[:7] == 'Concept']\n",
    "for i in range(0, len(resdata)):\n",
    "  resdata[i] = resdata[i].split('//')\n",
    "\n",
    "for i in range(0, len(resdata)):\n",
    "  resdata[i][2] = resdata[i][2].split('Output= ')\n",
    "  resdata[i][2].pop(0)\n",
    "  resdata[i][2][0] = resdata[i][2][0].lstrip(' ')\n",
    "  resdata[i][2] = resdata[i][2][0]"
   ]
  },
  {
   "cell_type": "code",
   "execution_count": 3,
   "metadata": {
    "id": "Ay2dosI0V-Nb"
   },
   "outputs": [],
   "source": [
    "#Outputs cleaning\n",
    "for i in range(0, len(resdata)):\n",
    "  for j in range(0, len(resdata[i][2])):\n",
    "    if resdata[i][2][j] != '1' and resdata[i][2][j] != '0':\n",
    "      if j == 0:\n",
    "        if resdata[i][2][j] == '-':  \n",
    "          resdata[i][2] = \"-\"\n",
    "        else:\n",
    "          resdata[i][2] = ''\n",
    "      else:\n",
    "        resdata[i][2] = resdata[i][2][:j]\n",
    "      break"
   ]
  },
  {
   "cell_type": "code",
   "execution_count": 6,
   "metadata": {
    "id": "2d9zOu8iYH0-"
   },
   "outputs": [],
   "source": [
    "#Store information in a more comprehensive variable finaldata\n",
    "\n",
    "finaldata = [[]]*numReps\n",
    "\n",
    "for r in range(0, numReps):\n",
    "  finaldata[r] = [[]]*numConcepts\n",
    "  for c in range(0,numConcepts):\n",
    "    finaldata[r][c] = [[]]*numBatches\n",
    "    for b in range(0,numBatches):\n",
    "      finaldata[r][c][b] = [[]]*numTests\n",
    "      for t in range(0, numTests):\n",
    "        finaldata[r][c][b][t] = resdata[c*numBatches*numTests*numReps + b*numTests*numReps + t*numReps + r][2]"
   ]
  },
  {
   "cell_type": "code",
   "execution_count": 12,
   "metadata": {
    "id": "m-0g6KqKyIIp"
   },
   "outputs": [],
   "source": [
    "#Store information in more comprehensive variables finaldata_emp (no test outputs with empty string) and testSets_emp\n",
    "\n",
    "import copy\n",
    "\n",
    "finaldata_emp = copy.deepcopy(finaldata)\n",
    "testSets_emp = copy.deepcopy(testSets)\n",
    "\n",
    "remove_pos = [[],[4],[1,3],[],[2,4],[1,2,3,4],[3,4],[0,1,4]]\n",
    "\n",
    "\n",
    "for i in range(0, len(remove_pos)):\n",
    "    remove_pos[i].reverse()\n",
    "    for j in range(0,len(remove_pos[i])):\n",
    "        del testSets_emp[i][remove_pos[i][j]]\n",
    "        for b in range(0, numBatches):\n",
    "            for r in range(0, numReps):\n",
    "                del finaldata_emp[r][i][b][remove_pos[i][j]]"
   ]
  },
  {
   "cell_type": "markdown",
   "metadata": {
    "id": "8-7S9zt3nHQ_"
   },
   "source": [
    "## 4.2 GPT-2-ens evaluation"
   ]
  },
  {
   "cell_type": "code",
   "execution_count": 13,
   "metadata": {
    "id": "yGyUY5d5Q4oS"
   },
   "outputs": [],
   "source": [
    "#MOST FREQUENT OUTPUT (IN CASE OF TIES, RANDOM SELECTION WITH SEED 23) \n",
    "\n",
    "import random as rn\n",
    "\n",
    "#https://www.geeksforgeeks.org/python-find-most-frequent-element-in-a-list/ addapted\n",
    "\n",
    "#Return the most repeated element in a list. If there are equal frequence of the top answers, return random result\n",
    "def most_frequent(passed_list): \n",
    "  counter = 0 \n",
    "      \n",
    "  for i in passed_list: \n",
    "    curr_frequency = passed_list.count(i) \n",
    "    if curr_frequency > counter: \n",
    "      counter = curr_frequency\n",
    "      num = i \n",
    "    elif curr_frequency == counter:\n",
    "      if isinstance(num, list):\n",
    "        if not i in num:\n",
    "          num.append(i)\n",
    "      elif i != num:\n",
    "        num = [num,i]\n",
    "  \n",
    "  return num \n",
    "\n",
    "\n",
    "#Collect the different outputs provided by GPT2 for a test example and call most_frequent to obtain the most frequent output or the list with the most\n",
    "#frequent ones in case of ties. In the later case, perform random selection.            \n",
    "aggregAnswers = [[]]*numConcepts\n",
    "for c in range(0, numConcepts):\n",
    "  aggregAnswers[c] = [[]]*numBatches\n",
    "  for b in range(0,numBatches):\n",
    "    aggregAnswers[c][b] = ['']*numTests\n",
    "    for t in range(0,numTests):\n",
    "      checklist = list('')\n",
    "      for r in range(0,numReps):\n",
    "        if finaldata[r][c][b][t] != '':\n",
    "          checklist.append(finaldata[r][c][b][t])\n",
    "      aggregAnswers[c][b][t]= most_frequent(checklist)\n",
    "      if isinstance(aggregAnswers[c][b][t], list):\n",
    "         rn.seed(seed)\n",
    "         aggregAnswers[c][b][t] = rn.choice(aggregAnswers[c][b][t])\n",
    "\n",
    "\n",
    "#Will be used to perform the similarity analysis\n",
    "binary_ens = [[]]*numConcepts\n",
    "#Calculate the accuracies\n",
    "accuracies_ens = [[]]*numConcepts\n",
    "for c in range(0, numConcepts):\n",
    "  binary_ens[c] = [[]]*numBatches\n",
    "  accuracies_ens[c] = [0]*numBatches\n",
    "  for b in range(0, numBatches):\n",
    "    binary_ens[c][b] = ['']*numTests\n",
    "    for t in range(0, numTests):\n",
    "        if aggregAnswers[c][b][t] == testSets[c][t]:\n",
    "          accuracies_ens[c][b] = accuracies_ens[c][b] + (1/numTests)\n",
    "          binary_ens[c][b][p] = 1 \n",
    "        else:\n",
    "          binary_ens[c][b][p] = 0\n",
    "\n"
   ]
  },
  {
   "cell_type": "markdown",
   "metadata": {
    "id": "cfYr80VMvYM5"
   },
   "source": [
    "## 4.3 GPT-2-ens (NO TEST EXAMPLES WITH EMPTY STRING AS OUTPUT) evaluation"
   ]
  },
  {
   "cell_type": "code",
   "execution_count": 17,
   "metadata": {
    "id": "cJCr0IZLwbf3"
   },
   "outputs": [],
   "source": [
    "#Additional code for the case when examples with the empty string as output are not allowed\n",
    "\n",
    "#Return the most repeated element in a list. If there are equal frequence of the top answers, return random result\n",
    "def most_frequent(passed_list): \n",
    "  counter = 0 \n",
    "      \n",
    "  for i in passed_list: \n",
    "    curr_frequency = passed_list.count(i) \n",
    "    if curr_frequency > counter: \n",
    "      counter = curr_frequency\n",
    "      num = i \n",
    "    elif curr_frequency == counter:\n",
    "      if isinstance(num, list):\n",
    "        if not i in num:\n",
    "          num.append(i)\n",
    "      elif i != num:\n",
    "        num = [num,i]\n",
    "  \n",
    "  return num \n",
    "\n",
    "#Collect the different outputs provided by GPT2 for a test example and call most_frequent to obtain the most frequent output or the list with the most\n",
    "#frequent ones in case of ties. In the later case, perform random selection.            \n",
    "aggregAnswers = [[]]*numConcepts\n",
    "for c in range(0, numConcepts):\n",
    "  aggregAnswers[c] = [[]]*numBatches\n",
    "  for b in range(0,numBatches):\n",
    "    aggregAnswers[c][b] = ['']*len(testSets_emp[c])\n",
    "    for t in range(0,len(testSets_emp[c])):\n",
    "      checklist = list('')\n",
    "      for r in range(0,numReps):\n",
    "        if finaldata_emp[r][c][b][t] != '':\n",
    "          checklist.append(finaldata_emp[r][c][b][t])\n",
    "      aggregAnswers[c][b][t]= most_frequent(checklist)\n",
    "      if isinstance(aggregAnswers[c][b][t], list):\n",
    "         rn.seed(seed)\n",
    "         aggregAnswers[c][b][t] = rn.choice(aggregAnswers[c][b][t])\n",
    "\n",
    "\n",
    "#Will be used to perform the similarity analysis\n",
    "binary_ens_emp = [[]]*numConcepts\n",
    "#Calculate the accuracies\n",
    "accuracies_ens_emp = [[]]*numConcepts\n",
    "for c in range(0, numConcepts):\n",
    "  binary_ens_emp[c] = [[]]*numBatches\n",
    "  accuracies_ens_emp[c] = [0]*numBatches\n",
    "  for b in range(0, numBatches):\n",
    "    binary_ens_emp[c][b] = ['']*len(testSets_emp[c])\n",
    "    for t in range(0, len(testSets_emp[c])):\n",
    "        if aggregAnswers[c][b][p] == testSets_emp[c][t]:\n",
    "          accuracies_ens_emp[c][b] = accuracies_ens_emp[c][b] + (1/len(testSets_emp[c]))\n",
    "          binary_ens_emp[c][b][t] = 1\n",
    "        else:\n",
    "          binary_ens_emp[c][b][t] = 0\n"
   ]
  },
  {
   "cell_type": "markdown",
   "metadata": {
    "id": "QZKlhJRc_695"
   },
   "source": [
    "## 4.4 GPT-2-exp evaluation"
   ]
  },
  {
   "cell_type": "code",
   "execution_count": 18,
   "metadata": {
    "id": "iyl1FsOydcJJ"
   },
   "outputs": [],
   "source": [
    "#AVERAGE ACCURACY WITH N = 40 GPT2 MACHINES\n",
    "\n",
    "#Will be used to perform the similarity analysis\n",
    "binary_exp = [[]]*numReps\n",
    "#Calculate the accuracies\n",
    "accuracies_exp = [[]]*numReps\n",
    "for r in range(0, numReps):\n",
    "  binary_exp[r] = [[]]*numConcepts\n",
    "  accuracies_exp[r] = [[]]*numConcepts\n",
    "  for c in range(0, numConcepts):\n",
    "    accuracies_exp[r][c] = [0]*numBatches\n",
    "    binary_exp[r][c] = [[]]*numBatches\n",
    "    for b in range(0, numBatches):\n",
    "      binary_exp[r][c][b] = ['']*numTests\n",
    "      for t in range(0, numTests):\n",
    "          if finaldata[r][c][b][t] == testSets[c][t]:\n",
    "            accuracies_exp[r][c][b] = accuracies_exp[r][c][b] + (1/numTests)\n",
    "            binary_exp[r][c][b][t] = 1\n",
    "          else:\n",
    "            binary_exp[r][c][b][t] = 0\n"
   ]
  },
  {
   "cell_type": "markdown",
   "metadata": {
    "id": "hNa2s_inC1Ej"
   },
   "source": [
    "## 4.5 GPT-2 exp (NO TEST EXAMPLES WITH EMPTY STRING AS OUTPUT) evaluation"
   ]
  },
  {
   "cell_type": "code",
   "execution_count": 20,
   "metadata": {
    "id": "oJf82C0i2F_t"
   },
   "outputs": [],
   "source": [
    "#Will be used to perform the similarity analysis\n",
    "binary_exp_emp = [[]]*numReps\n",
    "#Calculate the accuracies\n",
    "accuracies_exp_emp = [[]]*numReps\n",
    "for r in range(0, numReps):\n",
    "  binary_exp_emp[r] = [[]]*numConcepts\n",
    "  accuracies_exp_emp[r] = [[]]*numConcepts\n",
    "  for c in range(0, numConcepts):\n",
    "    accuracies_exp_emp[r][c] = [0]*numBatches\n",
    "    binary_exp_emp[r][c] = [[]]*numBatches\n",
    "    for b in range(0, numBatches):\n",
    "      binary_exp_emp[r][c][b] = ['']*len(testSets_emp[c])\n",
    "      for t in range(0, len(testSets_emp[c])):\n",
    "          if finaldata_emp[r][c][b][t] == testSets_emp[c][t]:\n",
    "            accuracies_exp_emp[r][c][b] = accuracies_exp_emp[r][c][b] + (1/len(testSets_emp[c]))\n",
    "            binary_exp_emp[r][c][b][t] = 1\n",
    "          else:\n",
    "            binary_exp_emp[r][c][b][t] = 0"
   ]
  }
 ],
 "metadata": {
  "colab": {
   "collapsed_sections": [],
   "name": "GPT_2_Experiments.ipynb",
   "provenance": []
  },
  "kernelspec": {
   "display_name": "Python 3",
   "language": "python",
   "name": "python3"
  },
  "language_info": {
   "codemirror_mode": {
    "name": "ipython",
    "version": 3
   },
   "file_extension": ".py",
   "mimetype": "text/x-python",
   "name": "python",
   "nbconvert_exporter": "python",
   "pygments_lexer": "ipython3",
   "version": "3.8.8"
  }
 },
 "nbformat": 4,
 "nbformat_minor": 1
}
