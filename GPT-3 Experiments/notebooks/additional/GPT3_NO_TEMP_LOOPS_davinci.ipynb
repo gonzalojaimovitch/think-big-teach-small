{
  "cells": [
    {
      "cell_type": "markdown",
      "id": "b202f823",
      "metadata": {},
      "source": [
        "# Data"
      ]
    },
    {
      "cell_type": "code",
      "execution_count": 2,
      "id": "7dab5c6c",
      "metadata": {
        "colab": {
          "base_uri": "https://localhost:8080/"
        },
        "executionInfo": {
          "elapsed": 721,
          "status": "ok",
          "timestamp": 1610994347483,
          "user": {
            "displayName": "Anonymous Submission Upload",
            "photoUrl": "",
            "userId": "15492377796153999474"
          },
          "user_tz": -60
        },
        "id": "Xx53U6DtRm1u",
        "outputId": "7894b070-831f-4736-ae03-8c03c749bfb3"
      },
      "outputs": [
        {
          "name": "stdout",
          "output_type": "stream",
          "text": [
            "/Users/gonzalojaimovitch/Downloads/think-big-teach-small/GPT-3 Experiments/notebooks/res_no_temp\n"
          ]
        }
      ],
      "source": [
        "resdata = open('./data/orig_prompt_loop.txt', encoding = 'utf-8')\n",
        "resdata = resdata.read().split(\"\\n\")"
      ]
    },
    {
      "cell_type": "markdown",
      "id": "b202f823",
      "metadata": {},
      "source": [
        "# Evaluation"
      ]
    },
    {
      "cell_type": "code",
      "execution_count": 5,
      "metadata": {
        "colab": {
          "base_uri": "https://localhost:8080/"
        },
        "id": "EK6lR-ZgVzcw",
        "outputId": "3b1fb763-e8c6-472c-ef57-8c257cf3f679"
      },
      "outputs": [
        {
          "name": "stdout",
          "output_type": "stream",
          "text": [
            "GPT3 Accuracy for C1 in Batch 1: 40.0\n",
            "GPT3 Accuracy for C1 in Batch 2: 100.0\n",
            "GPT3 Accuracy for C1 in Batch 3: 100.0\n",
            "GPT3 Accuracy for C2 in Batch 1: 0\n",
            "GPT3 Accuracy for C2 in Batch 2: 0\n",
            "GPT3 Accuracy for C2 in Batch 3: 0\n",
            "GPT3 Accuracy for C3 in Batch 1: 0\n",
            "GPT3 Accuracy for C3 in Batch 2: 0\n",
            "GPT3 Accuracy for C3 in Batch 3: 20.0\n",
            "GPT3 Accuracy for C4 in Batch 1: 0\n",
            "GPT3 Accuracy for C4 in Batch 2: 20.0\n",
            "GPT3 Accuracy for C4 in Batch 3: 0\n"
          ]
        }
      ],
      "source": [
        "numConcepts = 4\n",
        "numBatches = 3\n",
        "numTests = 5\n",
        " \n",
        "correctAnswers = [\"00000\", \"11100\", \"00111\", \"11010\",\"0010\",\"0000000000\", \"1110011100\", \"0011100111\", \"1101011010\", \"00100010\", \"00000\", \"00111\", \"11100\",\"01011\",\"0100\", \"0000000000\", \"1111110000\", \"0000111111\", \"1111001100\", \"00001100\"]\n",
        " \n",
        "#Calculate the accuracies\n",
        "for c in range(0, numConcepts):\n",
        "  for b in range(0, numBatches):\n",
        "    accuracy = 0\n",
        "    for t in range(0, numTests):\n",
        "      if resdata[c*numBatches*numTests + b*numTests + t] == correctAnswers[c*numTests +t]:\n",
        "        accuracy = accuracy + (1/numTests)\n",
        "    print(\"GPT3 Accuracy for C\" + str(c+1) + \" in Batch \" + str(b+1) + \": \" + str(accuracy*100))"
      ]
    }
  ],
  "metadata": {
    "colab": {
      "name": "New_Experiments_Prompts_GPT3_Loops.ipynb",
      "provenance": []
    },
    "interpreter": {
      "hash": "397704579725e15f5c7cb49fe5f0341eb7531c82d19f2c29d197e8b64ab5776b"
    },
    "kernelspec": {
      "display_name": "Python 3.9.0 64-bit",
      "name": "python3"
    },
    "language_info": {
      "codemirror_mode": {
        "name": "ipython",
        "version": 3
      },
      "file_extension": ".py",
      "mimetype": "text/x-python",
      "name": "python",
      "nbconvert_exporter": "python",
      "pygments_lexer": "ipython3",
      "version": "3.9.0"
    }
  },
  "nbformat": 4,
  "nbformat_minor": 0
}
