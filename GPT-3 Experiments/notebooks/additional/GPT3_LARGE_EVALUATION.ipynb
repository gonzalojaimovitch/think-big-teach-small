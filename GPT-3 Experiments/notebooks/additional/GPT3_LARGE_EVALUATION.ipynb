{
  "cells": [
    {
      "cell_type": "markdown",
      "metadata": {
        "id": "DV-PNCehAgYM"
      },
      "source": [
        "# Accuracy Calculation"
      ]
    },
    {
      "cell_type": "code",
      "execution_count": null,
      "metadata": {},
      "outputs": [],
      "source": [
        "%cd data"
      ]
    },
    {
      "cell_type": "code",
      "execution_count": null,
      "metadata": {
        "id": "ePNdCZ0Cya90"
      },
      "outputs": [],
      "source": [
        "import pandas as pd\n",
        "pd.set_option('display.max_rows', None)"
      ]
    },
    {
      "cell_type": "code",
      "execution_count": null,
      "metadata": {
        "id": "eq-Q6-zBtZaY"
      },
      "outputs": [],
      "source": [
        "import pandas as pd\n",
        "#Choose complete_ENGINE.csv being engine {ada, babbage, curie, davinci}\n",
        "ENGINE = 'choose'\n",
        "name_file=f\"complete_{ENGINE}.csv\"\n",
        "df = pd.read_csv(name_file)"
      ]
    },
    {
      "cell_type": "code",
      "execution_count": null,
      "metadata": {
        "id": "D8i86xu_tZaY"
      },
      "outputs": [],
      "source": [
        "#df.groupby(['Batch','Complexity']).mean().sort_values(by = 'Batch', ascending = False)\n",
        "acc_prog = df.groupby(['Program','Complexity','Batch']).mean()['Results'].reset_index()"
      ]
    },
    {
      "cell_type": "code",
      "execution_count": null,
      "metadata": {
        "id": "AZFeb8_wvqfE"
      },
      "outputs": [],
      "source": [
        "acc_prog['Batch'] = pd.Categorical(acc_prog['Batch'], [\"WS\",\"AS I\",\"AS II\"])\n",
        "acc_prog['Complexity'] = pd.Categorical(acc_prog['Complexity'], [\"VL\",\"L\",\"H\",\"VH\"])"
      ]
    },
    {
      "cell_type": "code",
      "execution_count": null,
      "metadata": {
        "colab": {
          "base_uri": "https://localhost:8080/",
          "height": 1000
        },
        "id": "Q2hke5FLuo3E",
        "outputId": "ed75843b-bbab-4540-d3a9-913812fbb635"
      },
      "outputs": [],
      "source": [
        "acc_prog.sort_values(by = ['Complexity','Program','Batch'])"
      ]
    },
    {
      "cell_type": "code",
      "execution_count": null,
      "metadata": {
        "id": "G4FfSLsGtZaY"
      },
      "outputs": [],
      "source": [
        "acc_comp = acc_prog.groupby(['Complexity', 'Batch']).mean()['Results'].reset_index()"
      ]
    },
    {
      "cell_type": "code",
      "execution_count": null,
      "metadata": {
        "colab": {
          "base_uri": "https://localhost:8080/",
          "height": 421
        },
        "id": "YJNza_CPtZaY",
        "outputId": "ae7987bd-26f3-4c47-c2e4-17115b17b4c5"
      },
      "outputs": [],
      "source": [
        "acc_comp"
      ]
    },
    {
      "cell_type": "markdown",
      "metadata": {
        "id": "_N9R2G0RtZaY"
      },
      "source": [
        "## No target outputs with empty string"
      ]
    },
    {
      "cell_type": "code",
      "execution_count": null,
      "metadata": {
        "id": "XAn7WnvvtZaY"
      },
      "outputs": [],
      "source": [
        "df_noempt = df[df['Target'] != \"-\"]"
      ]
    },
    {
      "cell_type": "code",
      "execution_count": null,
      "metadata": {
        "id": "6I_V_t99tZaZ"
      },
      "outputs": [],
      "source": [
        "accnoemp_prog = df_noempt.groupby(['Program','Complexity','Batch']).mean()['Results'].reset_index()"
      ]
    },
    {
      "cell_type": "code",
      "execution_count": null,
      "metadata": {
        "id": "ghCdlWrmw1oT"
      },
      "outputs": [],
      "source": [
        "accnoemp_prog['Batch'] = pd.Categorical(accnoemp_prog['Batch'], [\"WS\",\"AS I\",\"AS II\"])\n",
        "accnoemp_prog['Complexity'] = pd.Categorical(accnoemp_prog['Complexity'], [\"VL\",\"L\",\"H\",\"VH\"])"
      ]
    },
    {
      "cell_type": "code",
      "execution_count": null,
      "metadata": {
        "colab": {
          "base_uri": "https://localhost:8080/",
          "height": 1000
        },
        "id": "n4mez9_0t28P",
        "outputId": "c0b71ee8-e0b6-49b1-b6e7-959d92322bd4"
      },
      "outputs": [],
      "source": [
        "accnoemp_prog.sort_values(by = ['Complexity','Program','Batch'])"
      ]
    },
    {
      "cell_type": "code",
      "execution_count": null,
      "metadata": {
        "id": "xFoMXX8UtZaZ"
      },
      "outputs": [],
      "source": [
        "accnoemp_comp = accnoemp_prog.groupby(['Complexity', 'Batch']).mean()['Results'].reset_index()"
      ]
    },
    {
      "cell_type": "code",
      "execution_count": null,
      "metadata": {
        "colab": {
          "base_uri": "https://localhost:8080/",
          "height": 421
        },
        "id": "NZBuTe9rtZaZ",
        "outputId": "31f16d11-67d0-4583-f349-f86cb22db7b0"
      },
      "outputs": [],
      "source": [
        "accnoemp_comp"
      ]
    }
  ],
  "metadata": {
    "colab": {
      "collapsed_sections": [
        "Enbt3HV_DgIQ"
      ],
      "name": "Copy of TeachingBook-Analysis.ipynb",
      "provenance": []
    },
    "kernelspec": {
      "display_name": "Python 3",
      "name": "python3"
    },
    "language_info": {
      "name": "python"
    }
  },
  "nbformat": 4,
  "nbformat_minor": 0
}
