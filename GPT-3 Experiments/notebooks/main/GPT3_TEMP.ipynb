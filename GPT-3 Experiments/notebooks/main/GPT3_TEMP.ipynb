{
 "cells": [
  {
   "cell_type": "code",
   "execution_count": 1,
   "metadata": {},
   "outputs": [],
   "source": [
    "select_results = {\"ada-1\": \"data/res_temp/ada.txt\", \"babbage-1\": \"data/res_temp/babbage.txt\", \"curie-1\": \"data/res_temp/curie.txt\", \"davinci-1\": \"data/res_temp/davinci.txt\"}"
   ]
  },
  {
   "cell_type": "code",
   "execution_count": 9,
   "metadata": {},
   "outputs": [],
   "source": [
    "#Choose between {'ada', 'babbage', 'curie', 'davinci'}\n",
    "MODEL = 'davinci'"
   ]
  },
  {
   "cell_type": "markdown",
   "metadata": {},
   "source": [
    "# Data"
   ]
  },
  {
   "cell_type": "code",
   "execution_count": 10,
   "metadata": {
    "colab": {
     "base_uri": "https://localhost:8080/"
    },
    "executionInfo": {
     "elapsed": 721,
     "status": "ok",
     "timestamp": 1610994347483,
     "user": {
      "displayName": "Anonymous Submission Upload",
      "photoUrl": "",
      "userId": "15492377796153999474"
     },
     "user_tz": -60
    },
    "id": "Xx53U6DtRm1u",
    "outputId": "7894b070-831f-4736-ae03-8c03c749bfb3"
   },
   "outputs": [],
   "source": [
    "resdata = open(select_results[f\"{MODEL}-1\"])\n",
    "resdata = resdata.read().split(\"\\n\")"
   ]
  },
  {
   "cell_type": "code",
   "execution_count": 11,
   "metadata": {},
   "outputs": [],
   "source": [
    "count = len(resdata)\n",
    "i = 0\n",
    "while i < count:\n",
    "  if \"Output://\" in resdata[i]:\n",
    "    resdata[i] = resdata[i][19:]\n",
    "    resdata[i] = resdata[i].lstrip(\" \")\n",
    "    i = i + 1\n",
    "  else:\n",
    "    resdata.pop(i)\n",
    "    count = len(resdata)"
   ]
  },
  {
   "cell_type": "code",
   "execution_count": 12,
   "metadata": {},
   "outputs": [],
   "source": [
    "#Store information in a more comprehensive variable finaldata\n",
    "\n",
    "numConcepts = 8\n",
    "numBatches = 3\n",
    "numTests = 5\n",
    "numReps = 40\n",
    "\n",
    "\n",
    "finaldata = [[]]*numReps\n",
    "\n",
    "for r in range(0, numReps):\n",
    "  finaldata[r] = [[]]*numConcepts\n",
    "  for c in range(0,numConcepts):\n",
    "    finaldata[r][c] = [[]]*numBatches\n",
    "    for b in range(0,numBatches):\n",
    "      finaldata[r][c][b] = [[]]*numTests\n",
    "      for t in range(0, numTests):\n",
    "        finaldata[r][c][b][t] = resdata[c*numBatches*numTests*numReps + b*numTests*numReps + t*numReps + r]"
   ]
  },
  {
   "cell_type": "code",
   "execution_count": 13,
   "metadata": {},
   "outputs": [],
   "source": [
    "import random as rn\n",
    "\n",
    "seed = 23\n",
    "\n",
    "#https://www.geeksforgeeks.org/python-find-most-frequent-element-in-a-list/ addapted\n",
    "\n",
    "#Return the most repeated element in a list or a list with the most repeated elements\n",
    "def most_frequent(passed_list): \n",
    "  counter = 0 \n",
    "  for i in passed_list: \n",
    "    curr_frequency = passed_list.count(i) \n",
    "    if curr_frequency > counter: \n",
    "      counter = curr_frequency\n",
    "      num = i \n",
    "    elif curr_frequency == counter:\n",
    "      if isinstance(num, list):\n",
    "        if not i in num:\n",
    "          num.append(i)\n",
    "      elif i != num:\n",
    "        num = [num,i]\n",
    "  \n",
    "  return num \n",
    "\n",
    "\n",
    "aggregAnswers = [[]]*numConcepts\n",
    "\n",
    "for c in range(0, numConcepts):\n",
    "  aggregAnswers[c] = [[]]*numBatches\n",
    "  for b in range(0,numBatches):\n",
    "    aggregAnswers[c][b] = [\"\"]*numTests\n",
    "    for t in range(0,numTests):\n",
    "      checklist = list('')\n",
    "      for r in range(0,numReps):\n",
    "        if finaldata[r][c][b][t] != '':\n",
    "          checklist.append(finaldata[r][c][b][t])\n",
    "      aggregAnswers[c][b][t] = most_frequent(checklist)\n",
    "      if isinstance(aggregAnswers[c][b][t], list):\n",
    "         rn.seed(seed)\n",
    "         aggregAnswers[c][b][t] = rn.choice(aggregAnswers[c][b][t])\n"
   ]
  },
  {
   "cell_type": "markdown",
   "metadata": {},
   "source": [
    "# Evaluation"
   ]
  },
  {
   "cell_type": "markdown",
   "metadata": {},
   "source": [
    "## GPT-3A-T1"
   ]
  },
  {
   "cell_type": "code",
   "execution_count": 14,
   "metadata": {
    "colab": {
     "base_uri": "https://localhost:8080/"
    },
    "executionInfo": {
     "elapsed": 1266,
     "status": "ok",
     "timestamp": 1610994365557,
     "user": {
      "displayName": "Anonymous Submission Upload",
      "photoUrl": "",
      "userId": "15492377796153999474"
     },
     "user_tz": -60
    },
    "id": "BWR0yOJLSBA6",
    "outputId": "e1230280-0829-4822-ad68-1db4a73f5e54"
   },
   "outputs": [
    {
     "name": "stdout",
     "output_type": "stream",
     "text": [
      "GPT3 Accuracy for C1 in Batch 1: 40.0\n",
      "GPT3 Accuracy for C1 in Batch 2: 60.00000000000001\n",
      "GPT3 Accuracy for C1 in Batch 3: 80.0\n",
      "GPT3 Accuracy for C2 in Batch 1: 60.00000000000001\n",
      "GPT3 Accuracy for C2 in Batch 2: 40.0\n",
      "GPT3 Accuracy for C2 in Batch 3: 80.0\n",
      "GPT3 Accuracy for C3 in Batch 1: 40.0\n",
      "GPT3 Accuracy for C3 in Batch 2: 20.0\n",
      "GPT3 Accuracy for C3 in Batch 3: 20.0\n",
      "GPT3 Accuracy for C4 in Batch 1: 0\n",
      "GPT3 Accuracy for C4 in Batch 2: 20.0\n",
      "GPT3 Accuracy for C4 in Batch 3: 60.00000000000001\n",
      "GPT3 Accuracy for C5 in Batch 1: 60.00000000000001\n",
      "GPT3 Accuracy for C5 in Batch 2: 40.0\n",
      "GPT3 Accuracy for C5 in Batch 3: 40.0\n",
      "GPT3 Accuracy for C6 in Batch 1: 60.00000000000001\n",
      "GPT3 Accuracy for C6 in Batch 2: 60.00000000000001\n",
      "GPT3 Accuracy for C6 in Batch 3: 80.0\n",
      "GPT3 Accuracy for C7 in Batch 1: 80.0\n",
      "GPT3 Accuracy for C7 in Batch 2: 60.00000000000001\n",
      "GPT3 Accuracy for C7 in Batch 3: 60.00000000000001\n",
      "GPT3 Accuracy for C8 in Batch 1: 60.00000000000001\n",
      "GPT3 Accuracy for C8 in Batch 2: 60.00000000000001\n",
      "GPT3 Accuracy for C8 in Batch 3: 60.00000000000001\n"
     ]
    }
   ],
   "source": [
    "#Evaluation\n",
    "\n",
    "correctAnswers = [['0','1','0','1','0'],['1','1','0','0','-'],['1','-','1','-','1'], ['011', '011', '011', '1', '1'], ['0', '1', '-', '1', '-'], ['00', '-', '-', '-', '-'], ['1', '0', '0', '-', '-'], ['-', '-', '1', '1', '-']]\n",
    "\n",
    "accuracies = [[]]*numConcepts\n",
    "accuracies_des = [[]]*numReps\n",
    "\n",
    "binary_results = [[]]*numConcepts\n",
    "binary_results_des = [[]]*numReps\n",
    "\n",
    "#Calculate the accuracies\n",
    "for c in range(0, numConcepts):\n",
    "    accuracies[c] = [0]*numBatches\n",
    "    binary_results[c] = [[]]*numBatches\n",
    "    for b in range(0, numBatches):\n",
    "        binary_results[c][b] = [[]]*numTests\n",
    "        for t in range(0, numTests):\n",
    "          if aggregAnswers[c][b][t] == correctAnswers[c][t]:\n",
    "            accuracies[c][b] = accuracies[c][b] + (1/numTests)\n",
    "            binary_results[c][b][t] = 1\n",
    "          else:\n",
    "            binary_results[c][b][t] = 0\n",
    "\n",
    "        print(\"GPT3 Accuracy for C\" + str(c+1) + \" in Batch \" + str(b+1) + \": \" + str(accuracies[c][b]*100))\n",
    "        \n",
    "\n",
    "for r in range(0, numReps):\n",
    "  binary_results_des[r] = [[]]*numConcepts\n",
    "  accuracies_des[r] = [[]]*numConcepts\n",
    "  for c in range(0, numConcepts):\n",
    "    accuracies_des[r][c] = [0]*numBatches\n",
    "    binary_results_des[r][c] = [[]]*numBatches\n",
    "    for b in range(0, numBatches):\n",
    "      binary_results_des[r][c][b] = ['']*numTests\n",
    "      for t in range(0, numTests):\n",
    "          if finaldata[r][c][b][t] == correctAnswers[c][t]:\n",
    "            accuracies_des[r][c][b] = accuracies_des[r][c][b] + (1/numTests)\n",
    "            binary_results_des[r][c][b][t] = 1\n",
    "          else:\n",
    "            binary_results_des[r][c][b][t] = 0\n"
   ]
  },
  {
   "cell_type": "code",
   "execution_count": 15,
   "metadata": {
    "colab": {
     "base_uri": "https://localhost:8080/"
    },
    "executionInfo": {
     "elapsed": 694,
     "status": "ok",
     "timestamp": 1610994382366,
     "user": {
      "displayName": "Anonymous Submission Upload",
      "photoUrl": "",
      "userId": "15492377796153999474"
     },
     "user_tz": -60
    },
    "id": "ynFjqgOLnuot",
    "outputId": "aa824ab1-7419-4047-b1ea-508e4c6f7bfa"
   },
   "outputs": [
    {
     "name": "stdout",
     "output_type": "stream",
     "text": [
      "GPT3 Accuracy for C1 in Batch 1: 40.0\n",
      "GPT3 Accuracy for C1 in Batch 2: 60.00000000000001\n",
      "GPT3 Accuracy for C1 in Batch 3: 80.0\n",
      "GPT3 Accuracy for C2 in Batch 1: 75.0\n",
      "GPT3 Accuracy for C2 in Batch 2: 50.0\n",
      "GPT3 Accuracy for C2 in Batch 3: 100.0\n",
      "GPT3 Accuracy for C3 in Batch 1: 0\n",
      "GPT3 Accuracy for C3 in Batch 2: 0\n",
      "GPT3 Accuracy for C3 in Batch 3: 33.33333333333333\n",
      "GPT3 Accuracy for C4 in Batch 1: 0\n",
      "GPT3 Accuracy for C4 in Batch 2: 20.0\n",
      "GPT3 Accuracy for C4 in Batch 3: 60.00000000000001\n",
      "GPT3 Accuracy for C5 in Batch 1: 33.33333333333333\n",
      "GPT3 Accuracy for C5 in Batch 2: 66.66666666666666\n",
      "GPT3 Accuracy for C5 in Batch 3: 66.66666666666666\n",
      "GPT3 Accuracy for C6 in Batch 1: 0\n",
      "GPT3 Accuracy for C6 in Batch 2: 0\n",
      "GPT3 Accuracy for C6 in Batch 3: 0\n",
      "GPT3 Accuracy for C7 in Batch 1: 100.0\n",
      "GPT3 Accuracy for C7 in Batch 2: 100.0\n",
      "GPT3 Accuracy for C7 in Batch 3: 100.0\n",
      "GPT3 Accuracy for C8 in Batch 1: 0\n",
      "GPT3 Accuracy for C8 in Batch 2: 0\n",
      "GPT3 Accuracy for C8 in Batch 3: 0\n"
     ]
    }
   ],
   "source": [
    "#Additional code for the case when examples with the empty string as output are not allowed\n",
    "\n",
    "import copy\n",
    "\n",
    "finaldata_emp = copy.deepcopy(finaldata)\n",
    "correctAnswers_emp = copy.deepcopy(correctAnswers)\n",
    "aggregAnswers_emp = copy.deepcopy(aggregAnswers)\n",
    "\n",
    "remove_pos = [[],[4],[1,3],[],[2,4],[1,2,3,4],[3,4],[0,1,4]]\n",
    "\n",
    "\n",
    "for i in range(0, len(remove_pos)):\n",
    "    remove_pos[i].reverse()\n",
    "    for j in range(0,len(remove_pos[i])):\n",
    "        del correctAnswers_emp[i][remove_pos[i][j]]\n",
    "        del aggregAnswers_emp[i][b][remove_pos[i][j]]\n",
    "        for b in range(0, numBatches):\n",
    "            for r in range(0, numReps):\n",
    "                del finaldata_emp[r][i][b][remove_pos[i][j]]\n",
    "\n",
    "accuracies_emp = [[]]*numConcepts\n",
    "accuracies_emp_des = [[]]*numReps\n",
    "\n",
    "binary_results_emp = [[]]*numConcepts\n",
    "binary_results_emp_des = [[]]*numReps\n",
    "\n",
    "#Calculate the accuracies\n",
    "for c in range(0, numConcepts):\n",
    "    accuracies_emp[c] = [0]*numBatches\n",
    "    binary_results_emp[c] = [[]]*numBatches\n",
    "    for b in range(0, numBatches):\n",
    "        binary_results_emp[c][b] = [[]]*len(correctAnswers_emp[c])\n",
    "        for t in range(0, len(correctAnswers_emp[c])):\n",
    "          if aggregAnswers_emp[c][b][t] == correctAnswers_emp[c][t]:\n",
    "            accuracies_emp[c][b] = accuracies_emp[c][b] + (1/len(correctAnswers_emp[c]))\n",
    "            binary_results_emp[c][b][t] = 1\n",
    "          else:\n",
    "            binary_results_emp[c][b][t] = 0\n",
    "\n",
    "        print(\"GPT3 Accuracy for C\" + str(c+1) + \" in Batch \" + str(b+1) + \": \" + str(accuracies_emp[c][b]*100))\n",
    "        \n",
    "for r in range(0, numReps):\n",
    "  binary_results_emp_des[r] = [[]]*numConcepts\n",
    "  accuracies_emp_des[r] = [[]]*numConcepts\n",
    "  for c in range(0, numConcepts):\n",
    "    accuracies_emp_des[r][c] = [0]*numBatches\n",
    "    binary_results_emp_des[r][c] = [[]]*numBatches\n",
    "    for b in range(0, numBatches):\n",
    "      binary_results_emp_des[r][c][b] = ['']*len(correctAnswers_emp[c])\n",
    "      for t in range(0, len(correctAnswers_emp[c])):\n",
    "          if finaldata_emp[r][c][b][t] == correctAnswers_emp[c][t]:\n",
    "            accuracies_emp_des[r][c][b] = accuracies_emp_des[r][c][b] + (1/len(correctAnswers_emp[c]))\n",
    "            binary_results_emp_des[r][c][b][t] = 1\n",
    "          else:\n",
    "            binary_results_emp_des[r][c][b][t] = 0"
   ]
  }
 ],
 "metadata": {
  "colab": {
   "collapsed_sections": [],
   "name": "GPT3_TEMP_ada.ipynb",
   "provenance": []
  },
  "interpreter": {
   "hash": "397704579725e15f5c7cb49fe5f0341eb7531c82d19f2c29d197e8b64ab5776b"
  },
  "kernelspec": {
   "display_name": "Python 3.9.0 64-bit",
   "name": "python3"
  },
  "language_info": {
   "codemirror_mode": {
    "name": "ipython",
    "version": 3
   },
   "file_extension": ".py",
   "mimetype": "text/x-python",
   "name": "python",
   "nbconvert_exporter": "python",
   "pygments_lexer": "ipython3",
   "version": "3.9.0"
  }
 },
 "nbformat": 4,
 "nbformat_minor": 1
}
