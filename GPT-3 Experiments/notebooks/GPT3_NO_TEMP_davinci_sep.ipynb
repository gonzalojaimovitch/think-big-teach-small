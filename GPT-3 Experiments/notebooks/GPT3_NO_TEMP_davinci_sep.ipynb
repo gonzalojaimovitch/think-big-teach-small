{
 "cells": [
  {
   "cell_type": "markdown",
   "metadata": {},
   "source": [
    "# Settings"
   ]
  },
  {
   "cell_type": "code",
   "execution_count": null,
   "metadata": {
    "colab": {
     "base_uri": "https://localhost:8080/"
    },
    "executionInfo": {
     "elapsed": 5119,
     "status": "ok",
     "timestamp": 1610994339245,
     "user": {
      "displayName": "Anonymous Submission Upload",
      "photoUrl": "",
      "userId": "15492377796153999474"
     },
     "user_tz": -60
    },
    "id": "ybazL_O1RHLc",
    "outputId": "66704e67-efe2-482c-b28e-998503270445",
    "scrolled": true
   },
   "outputs": [
    {
     "name": "stdout",
     "output_type": "stream",
     "text": [
      "Requirement already satisfied: googledrivedownloader in /usr/local/lib/python3.6/dist-packages (0.4)\n",
      "Downloading 1Jr8BrAhWlRvXO8CcBa1XmVIgAuUdCEUx into ./content... Done.\n",
      "Unzipping...Done.\n"
     ]
    }
   ],
   "source": [
    "#Download the necessary files for the experiment\n",
    "\n",
    "!pip install googledrivedownloader\n",
    "\n",
    "from google_drive_downloader import GoogleDriveDownloader as gdd\n",
    "\n",
    "gdd.download_file_from_google_drive(file_id='1Jr8BrAhWlRvXO8CcBa1XmVIgAuUdCEUx',\n",
    "                                    dest_path='./content',\n",
    "                                    unzip=True)"
   ]
  },
  {
   "cell_type": "markdown",
   "metadata": {},
   "source": [
    "# Data"
   ]
  },
  {
   "cell_type": "code",
   "execution_count": 4,
   "metadata": {
    "colab": {
     "base_uri": "https://localhost:8080/"
    },
    "executionInfo": {
     "elapsed": 721,
     "status": "ok",
     "timestamp": 1610994347483,
     "user": {
      "displayName": "Anonymous Submission Upload",
      "photoUrl": "",
      "userId": "15492377796153999474"
     },
     "user_tz": -60
    },
    "id": "Xx53U6DtRm1u",
    "outputId": "7894b070-831f-4736-ae03-8c03c749bfb3"
   },
   "outputs": [
    {
     "name": "stdout",
     "output_type": "stream",
     "text": [
      "[WinError 2] The system cannot find the file specified: 'res_no_temp'\n",
      "C:\\Users\\jaimovitchg\\Desktop\\code\\GPT-3 Experiments\n"
     ]
    }
   ],
   "source": [
    "%cd res_no_temp\n",
    "resdata = open('d_sep.txt')\n",
    "resdata = resdata.read().split(\"\\n\")"
   ]
  },
  {
   "cell_type": "code",
   "execution_count": 5,
   "metadata": {
    "id": "QWyLEDB3R7vC"
   },
   "outputs": [],
   "source": [
    "#Data post-processing\n",
    "for i in range(0, len(resdata)):\n",
    "  for j in range(0, len(resdata[i])):\n",
    "    if resdata[i][j] != '1' and resdata[i][j] != '0':\n",
    "      if j == 0:\n",
    "        if resdata[i][j] == '-':  \n",
    "          resdata[i] = \"-\"\n",
    "        else:\n",
    "          resdata[i] = ''\n",
    "      else:\n",
    "        resdata[i] = resdata[i][:j]\n",
    "      break"
   ]
  },
  {
   "cell_type": "code",
   "execution_count": 6,
   "metadata": {},
   "outputs": [],
   "source": [
    "#Store information in a more comprehensive variable finaldata\n",
    "\n",
    "numConcepts = 8\n",
    "numBatches = 3\n",
    "numTests = 5\n",
    "\n",
    "finaldata = [[]]*numConcepts\n",
    "\n",
    "for c in range(0,numConcepts):\n",
    "    finaldata[c] = [[]]*numBatches\n",
    "    for b in range(0,numBatches):\n",
    "      finaldata[c][b] = [\"\"]*numTests\n",
    "      for t in range(0, numTests):\n",
    "        finaldata[c][b][t] = resdata[c*numBatches*numTests + b*numTests + t]"
   ]
  },
  {
   "cell_type": "markdown",
   "metadata": {},
   "source": [
    "# Evaluation"
   ]
  },
  {
   "cell_type": "markdown",
   "metadata": {},
   "source": [
    "## GPT-3D-T0-S"
   ]
  },
  {
   "cell_type": "code",
   "execution_count": 7,
   "metadata": {
    "colab": {
     "base_uri": "https://localhost:8080/"
    },
    "executionInfo": {
     "elapsed": 1266,
     "status": "ok",
     "timestamp": 1610994365557,
     "user": {
      "displayName": "Anonymous Submission Upload",
      "photoUrl": "",
      "userId": "15492377796153999474"
     },
     "user_tz": -60
    },
    "id": "BWR0yOJLSBA6",
    "outputId": "e1230280-0829-4822-ad68-1db4a73f5e54"
   },
   "outputs": [
    {
     "name": "stdout",
     "output_type": "stream",
     "text": [
      "GPT3 Accuracy for C1 in Batch 1: 60.00000000000001\n",
      "GPT3 Accuracy for C1 in Batch 2: 100.0\n",
      "GPT3 Accuracy for C1 in Batch 3: 100.0\n",
      "GPT3 Accuracy for C2 in Batch 1: 20.0\n",
      "GPT3 Accuracy for C2 in Batch 2: 40.0\n",
      "GPT3 Accuracy for C2 in Batch 3: 80.0\n",
      "GPT3 Accuracy for C3 in Batch 1: 0\n",
      "GPT3 Accuracy for C3 in Batch 2: 20.0\n",
      "GPT3 Accuracy for C3 in Batch 3: 40.0\n",
      "GPT3 Accuracy for C4 in Batch 1: 0\n",
      "GPT3 Accuracy for C4 in Batch 2: 40.0\n",
      "GPT3 Accuracy for C4 in Batch 3: 40.0\n",
      "GPT3 Accuracy for C5 in Batch 1: 40.0\n",
      "GPT3 Accuracy for C5 in Batch 2: 40.0\n",
      "GPT3 Accuracy for C5 in Batch 3: 60.00000000000001\n",
      "GPT3 Accuracy for C6 in Batch 1: 40.0\n",
      "GPT3 Accuracy for C6 in Batch 2: 0\n",
      "GPT3 Accuracy for C6 in Batch 3: 60.00000000000001\n",
      "GPT3 Accuracy for C7 in Batch 1: 40.0\n",
      "GPT3 Accuracy for C7 in Batch 2: 40.0\n",
      "GPT3 Accuracy for C7 in Batch 3: 60.00000000000001\n",
      "GPT3 Accuracy for C8 in Batch 1: 0\n",
      "GPT3 Accuracy for C8 in Batch 2: 60.00000000000001\n",
      "GPT3 Accuracy for C8 in Batch 3: 0\n"
     ]
    }
   ],
   "source": [
    "#Evaluation\n",
    "\n",
    "numConcepts = 8\n",
    "numBatches = 3\n",
    "numTests = 5\n",
    "\n",
    "correctAnswers = [['0','1','0','1','0'],['1','1','0','0','-'],['1','-','1','-','1'], ['011', '011', '011', '1', '1'], ['0', '1', '-', '1', '-'], ['00', '-', '-', '-', '-'], ['1', '0', '0', '-', '-'], ['-', '-', '1', '1', '-']]\n",
    "\n",
    "accuracies = [[]]*numConcepts\n",
    "binary_results = [[]]*numConcepts\n",
    "\n",
    "#Calculate the accuracies\n",
    "for c in range(0, numConcepts):\n",
    "    accuracies[c] = [0]*numBatches\n",
    "    binary_results[c] = [[]]*numBatches\n",
    "    for b in range(0, numBatches):\n",
    "        binary_results[c][b] = [[]]*numTests\n",
    "        for t in range(0, numTests):\n",
    "          if finaldata[c][b][t] == correctAnswers[c][t]:\n",
    "            accuracies[c][b] = accuracies[c][b] + (1/numTests)\n",
    "            binary_results[c][b][t] = 1\n",
    "          else:\n",
    "            binary_results[c][b][t] = 0\n",
    "\n",
    "        print(\"GPT3 Accuracy for C\" + str(c+1) + \" in Batch \" + str(b+1) + \": \" + str(accuracies[c][b]*100))\n",
    "\n"
   ]
  },
  {
   "cell_type": "markdown",
   "metadata": {},
   "source": [
    "## GPT-3D-T0-S (no empty string as output in test)"
   ]
  },
  {
   "cell_type": "code",
   "execution_count": 8,
   "metadata": {
    "colab": {
     "base_uri": "https://localhost:8080/"
    },
    "executionInfo": {
     "elapsed": 694,
     "status": "ok",
     "timestamp": 1610994382366,
     "user": {
      "displayName": "Anonymous Submission Upload",
      "photoUrl": "",
      "userId": "15492377796153999474"
     },
     "user_tz": -60
    },
    "id": "ynFjqgOLnuot",
    "outputId": "aa824ab1-7419-4047-b1ea-508e4c6f7bfa"
   },
   "outputs": [
    {
     "name": "stdout",
     "output_type": "stream",
     "text": [
      "GPT3 Accuracy for C1 in Batch 1: 60.00000000000001\n",
      "GPT3 Accuracy for C1 in Batch 2: 100.0\n",
      "GPT3 Accuracy for C1 in Batch 3: 100.0\n",
      "GPT3 Accuracy for C2 in Batch 1: 25.0\n",
      "GPT3 Accuracy for C2 in Batch 2: 50.0\n",
      "GPT3 Accuracy for C2 in Batch 3: 100.0\n",
      "GPT3 Accuracy for C3 in Batch 1: 0\n",
      "GPT3 Accuracy for C3 in Batch 2: 33.33333333333333\n",
      "GPT3 Accuracy for C3 in Batch 3: 66.66666666666666\n",
      "GPT3 Accuracy for C4 in Batch 1: 0\n",
      "GPT3 Accuracy for C4 in Batch 2: 40.0\n",
      "GPT3 Accuracy for C4 in Batch 3: 40.0\n",
      "GPT3 Accuracy for C5 in Batch 1: 66.66666666666666\n",
      "GPT3 Accuracy for C5 in Batch 2: 66.66666666666666\n",
      "GPT3 Accuracy for C5 in Batch 3: 100.0\n",
      "GPT3 Accuracy for C6 in Batch 1: 0\n",
      "GPT3 Accuracy for C6 in Batch 2: 0\n",
      "GPT3 Accuracy for C6 in Batch 3: 0\n",
      "GPT3 Accuracy for C7 in Batch 1: 66.66666666666666\n",
      "GPT3 Accuracy for C7 in Batch 2: 66.66666666666666\n",
      "GPT3 Accuracy for C7 in Batch 3: 100.0\n",
      "GPT3 Accuracy for C8 in Batch 1: 0\n",
      "GPT3 Accuracy for C8 in Batch 2: 0\n",
      "GPT3 Accuracy for C8 in Batch 3: 0\n"
     ]
    }
   ],
   "source": [
    "import copy\n",
    "\n",
    "finaldata_emp = copy.deepcopy(finaldata)\n",
    "correctAnswers_emp = copy.deepcopy(correctAnswers)\n",
    "\n",
    "remove_pos = [[],[4],[1,3],[],[2,4],[1,2,3,4],[3,4],[0,1,4]]\n",
    "\n",
    "\n",
    "for i in range(0, len(remove_pos)):\n",
    "    remove_pos[i].reverse()\n",
    "    for j in range(0,len(remove_pos[i])):\n",
    "        del correctAnswers_emp[i][remove_pos[i][j]]\n",
    "        for b in range(0, numBatches):\n",
    "                del finaldata_emp[i][b][remove_pos[i][j]]\n",
    "\n",
    "accuracies_emp = [[]]*numConcepts\n",
    "binary_results_emp = [[]]*numConcepts\n",
    "\n",
    "#Calculate the accuracies\n",
    "for c in range(0, numConcepts):\n",
    "    accuracies_emp[c] = [0]*numBatches\n",
    "    binary_results_emp[c] = [[]]*numBatches\n",
    "    for b in range(0, numBatches):\n",
    "        binary_results_emp[c][b] = [[]]*len(correctAnswers_emp[c])\n",
    "        for t in range(0, len(correctAnswers_emp[c])):\n",
    "          if finaldata_emp[c][b][t] == correctAnswers_emp[c][t]:\n",
    "            accuracies_emp[c][b] = accuracies_emp[c][b] + (1/len(correctAnswers_emp[c]))\n",
    "            binary_results_emp[c][b][t] = 1\n",
    "          else:\n",
    "            binary_results_emp[c][b][t] = 0\n",
    "\n",
    "        print(\"GPT3 Accuracy for C\" + str(c+1) + \" in Batch \" + str(b+1) + \": \" + str(accuracies_emp[c][b]*100))\n"
   ]
  }
 ],
 "metadata": {
  "colab": {
   "collapsed_sections": [],
   "name": "GPT3_NO_TEMP_davinci_sep.ipynb",
   "provenance": []
  },
  "kernelspec": {
   "display_name": "Python 3",
   "language": "python",
   "name": "python3"
  },
  "language_info": {
   "codemirror_mode": {
    "name": "ipython",
    "version": 3
   },
   "file_extension": ".py",
   "mimetype": "text/x-python",
   "name": "python",
   "nbconvert_exporter": "python",
   "pygments_lexer": "ipython3",
   "version": "3.8.8"
  }
 },
 "nbformat": 4,
 "nbformat_minor": 1
}
